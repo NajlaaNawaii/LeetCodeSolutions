{
  "nbformat": 4,
  "nbformat_minor": 0,
  "metadata": {
    "colab": {
      "name": "167. Two Sum II - Input Array Is Sorted.ipynb",
      "provenance": []
    },
    "kernelspec": {
      "name": "python3",
      "display_name": "Python 3"
    },
    "language_info": {
      "name": "python"
    }
  },
  "cells": [
    {
      "cell_type": "markdown",
      "source": [
        "167. Two Sum II - Input Array Is Sorted\n",
        "\n",
        "Easy\n",
        "\n",
        "Given a 1-indexed array of integers numbers that is already sorted in non-decreasing order, find two numbers such that they add up to a specific target number. Let these two numbers be numbers[index1] and numbers[index2] where 1 <= index1 < index2 <= numbers.length.\n",
        "\n",
        "Return the indices of the two numbers, index1 and index2, added by one as an integer array [index1, index2] of length 2.\n",
        "\n",
        "The tests are generated such that there is exactly one solution. You may not use the same element twice."
      ],
      "metadata": {
        "id": "Cwg7o5yhArSy"
      }
    },
    {
      "cell_type": "code",
      "execution_count": null,
      "metadata": {
        "id": "wQjuZmuCApcX"
      },
      "outputs": [],
      "source": [
        "class Solution(object):\n",
        "    def twoSum(self, numbers, target):\n",
        "        \"\"\"\n",
        "        :type numbers: List[int]\n",
        "        :type target: int\n",
        "        :rtype: List[int]\n",
        "        \"\"\"\n",
        "        l,r=0,(len(numbers)-1)\n",
        "        while l < r:\n",
        "            total=numbers[l]+numbers[r]\n",
        "            if total == target:\n",
        "                return l+1,r+1\n",
        "            elif total > target:\n",
        "                r-=1\n",
        "            elif total < target:\n",
        "                l+=1\n",
        "            \n",
        "            \n",
        "            \n",
        "            \n",
        "        "
      ]
    },
    {
      "cell_type": "markdown",
      "source": [
        "The brute force solution for this problem will be to check every element possible combinations' starting from the beginning, which means you'll have two for loops, one for specific element and the other for the remaining elements. And That's O(n*2) complexity.\n",
        "But we can use the sorted array information for our advnatge and use the two pointers method, The left indicate the smaller and the right indicate the bigger elements , and with that we'll go through the array one time."
      ],
      "metadata": {
        "id": "VvDAkvZFA08Q"
      }
    }
  ]
}