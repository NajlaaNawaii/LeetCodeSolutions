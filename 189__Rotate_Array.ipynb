{
  "nbformat": 4,
  "nbformat_minor": 0,
  "metadata": {
    "colab": {
      "name": "189_ Rotate Array.ipynb",
      "provenance": [],
      "collapsed_sections": []
    },
    "kernelspec": {
      "name": "python3",
      "display_name": "Python 3"
    },
    "language_info": {
      "name": "python"
    }
  },
  "cells": [
    {
      "cell_type": "markdown",
      "source": [
        "189. Rotate Array\n",
        "\n",
        "Medium\n",
        "\n",
        "Given an array, rotate the array to the right by k steps, where k is non-negative."
      ],
      "metadata": {
        "id": "1z6va1n8euB1"
      }
    },
    {
      "cell_type": "code",
      "execution_count": null,
      "metadata": {
        "id": "7nmo1D2_emU3"
      },
      "outputs": [],
      "source": [
        "#Solution 1\n",
        "class Solution(object):\n",
        "    def rotate(self, nums, k):\n",
        "        \"\"\"\n",
        "        :type nums: List[int]\n",
        "        :type k: int\n",
        "        :rtype: None Do not return anything, modify nums in-place instead.\n",
        "        \"\"\"\n",
        "        n=len(nums)\n",
        "        cpnums=nums[:]\n",
        "        for i in range(n):\n",
        "            nums[(i+k)%n]= cpnums[i]\n",
        "            \n",
        "##Solution 2\n",
        "class Solution(object):\n",
        "    def rotate(self, nums, k):\n",
        "        \"\"\"\n",
        "        :type nums: List[int]\n",
        "        :type k: int\n",
        "        :rtype: None Do not return anything, modify nums in-place instead.\n",
        "        \"\"\"\n",
        "        n=len(nums)\n",
        "        k=k%n\n",
        "        \n",
        "        def reverse(list,start,finish):\n",
        "            while start < finish:\n",
        "                list[start],list[finish]=list[finish],list[start]\n",
        "                start+=1\n",
        "                finish-=1 \n",
        "                \n",
        "        reverse(nums,0,n-1)\n",
        "        reverse(nums,0,k-1)\n",
        "        reverse(nums,k,n-1)\n",
        "        \n",
        "        \n"
      ]
    },
    {
      "cell_type": "markdown",
      "source": [
        "In the first solution, We created an array to hold our elements and then we modified our elements in place with the help of our copied array, The new indexes were defined by the mod formula which prevent us from overflowing when we add the k to the last elements.\n",
        "In the second solution, we solved the problem of the extra memory(copying the array) by a trick which is rotating the whole array and then rotating it again with the k limits."
      ],
      "metadata": {
        "id": "fqb0azHFfeTr"
      }
    }
  ]
}