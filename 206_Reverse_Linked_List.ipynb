{
  "nbformat": 4,
  "nbformat_minor": 0,
  "metadata": {
    "colab": {
      "name": "206. Reverse Linked List.ipynb",
      "provenance": [],
      "collapsed_sections": []
    },
    "kernelspec": {
      "name": "python3",
      "display_name": "Python 3"
    },
    "language_info": {
      "name": "python"
    }
  },
  "cells": [
    {
      "cell_type": "markdown",
      "source": [
        "206. Reverse Linked List\n",
        "\n",
        "Easy\n",
        "\n",
        "Given the head of a singly linked list, reverse the list, and return the reversed list.\n",
        "\n",
        " "
      ],
      "metadata": {
        "id": "eWMHCB_zr72b"
      }
    },
    {
      "cell_type": "code",
      "execution_count": null,
      "metadata": {
        "id": "5QBVWniZr6AZ"
      },
      "outputs": [],
      "source": [
        "# Definition for singly-linked list.\n",
        "# class ListNode(object):\n",
        "#     def __init__(self, val=0, next=None):\n",
        "#         self.val = val\n",
        "#         self.next = next\n",
        "class Solution(object):\n",
        "    def reverseList(self, head):\n",
        "        \"\"\"\n",
        "        :type head: ListNode\n",
        "        :rtype: ListNode\n",
        "        \"\"\"\n",
        "        previous,current=None,head\n",
        "        while current :\n",
        "            next=current.next\n",
        "            current.next=previous\n",
        "            previous=current\n",
        "            current=next\n",
        "        return previous\n",
        "            "
      ]
    },
    {
      "cell_type": "markdown",
      "source": [
        "The idea is that at each node we want to set its next node to be its (original)previous one, and that can be done straightforward But when we want to move to the actual(in the original linkedlist) next node we can't because we broke the relation by setting .next ==> previous , So we first save the current.next in a variable and then we call it."
      ],
      "metadata": {
        "id": "VZnu9cYcr7do"
      }
    }
  ]
}