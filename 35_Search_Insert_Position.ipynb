{
  "nbformat": 4,
  "nbformat_minor": 0,
  "metadata": {
    "colab": {
      "name": "35_Search Insert Position.ipynb",
      "provenance": []
    },
    "kernelspec": {
      "name": "python3",
      "display_name": "Python 3"
    },
    "language_info": {
      "name": "python"
    }
  },
  "cells": [
    {
      "cell_type": "markdown",
      "source": [
        "35. Search Insert Position\n",
        "\n",
        "Easy\n",
        "\n",
        "Given a sorted array of distinct integers and a target value, return the index if the target is found. If not, return the index where it would be if it were inserted in order.\n",
        "\n",
        "You must write an algorithm with O(log n) runtime complexity.\n",
        "\n",
        " "
      ],
      "metadata": {
        "id": "96W-cyQiRz4D"
      }
    },
    {
      "cell_type": "code",
      "execution_count": null,
      "metadata": {
        "id": "r8ITpAlUJ7rw"
      },
      "outputs": [],
      "source": [
        "class Solution(object):\n",
        "    def searchInsert(self, nums, target):\n",
        "        \"\"\"\n",
        "        :type nums: List[int]\n",
        "        :type target: int\n",
        "        :rtype: int\n",
        "        \"\"\"\n",
        "        low,high=0,len(nums)-1\n",
        "        while low <= high:\n",
        "            mid =(low+high) //2\n",
        "            if target == nums[mid]:\n",
        "                return mid\n",
        "            if target > nums[mid]:\n",
        "                low=mid+1\n",
        "            else:\n",
        "                high=mid-1\n",
        "        return low\n",
        "\n"
      ]
    },
    {
      "cell_type": "markdown",
      "source": [
        "Since it's a sorted array we use generic binary search with logn complexity, if the target value wasn't found and the loop terminated the low pointer will be returned as the expected place for the target, That's because Just before terminating the loop the low pointer would have added 1 if it was bigger or stayed as it's if it was smaller. "
      ],
      "metadata": {
        "id": "IFTUnrrYM6V1"
      }
    }
  ]
}