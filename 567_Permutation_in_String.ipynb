{
  "nbformat": 4,
  "nbformat_minor": 0,
  "metadata": {
    "colab": {
      "name": "567. Permutation in String.ipynb",
      "provenance": []
    },
    "kernelspec": {
      "name": "python3",
      "display_name": "Python 3"
    },
    "language_info": {
      "name": "python"
    }
  },
  "cells": [
    {
      "cell_type": "markdown",
      "source": [
        "567. Permutation in String\n",
        "\n",
        "Medium\n",
        "\n",
        "Given two strings s1 and s2, return true if s2 contains a permutation of s1, or false otherwise.\n",
        "\n",
        "In other words, return true if one of s1's permutations is the substring of s2."
      ],
      "metadata": {
        "id": "2f9B71AwIHVm"
      }
    },
    {
      "cell_type": "code",
      "execution_count": null,
      "metadata": {
        "id": "wGqShhxIIF1b"
      },
      "outputs": [],
      "source": [
        "from collections import Counter\n",
        "class Solution(object):\n",
        "    def checkInclusion(self, s1, s2):\n",
        "        \"\"\"\n",
        "        :type s1: str\n",
        "        :type s2: str\n",
        "        :rtype: bool\n",
        "        \"\"\"\n",
        "\n",
        "        HashS1=Counter(s1)\n",
        "        HashS2=Counter()\n",
        "        if len(s1) > len(s2): \n",
        "            return False\n",
        "        for i,c in enumerate(s2):\n",
        "            HashS2[c]+=1\n",
        "            \n",
        "            if i > len(s1)-1:\n",
        "                left_element=s2[i-len(s1)]\n",
        "                if HashS2[left_element] ==1:\n",
        "                    del HashS2[left_element]\n",
        "                else :\n",
        "                    HashS2[left_element]-=1\n",
        "                    \n",
        "            if HashS2==HashS1:\n",
        "                return True\n",
        "        return False\n",
        "            \n",
        "         "
      ]
    },
    {
      "cell_type": "markdown",
      "source": [
        "The main idea is we want to create hashtable to record the frequency of s1 and the frequency of the sliding window through s2 until the two hashtables match.\n",
        "\n",
        "first, We create a permanant counter (sub-class of dictionaries in python) for s1, and then we go through s2 with a window of length s1 and everytime the window exceeds the length we delete the leftmost element, The window's characters frequencies are recorded inside HashSet2, And after each iteration in S2 the two hashtables are compared."
      ],
      "metadata": {
        "id": "HIcskfiQIUxw"
      }
    }
  ]
}