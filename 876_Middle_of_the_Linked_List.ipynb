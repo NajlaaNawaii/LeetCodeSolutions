{
  "nbformat": 4,
  "nbformat_minor": 0,
  "metadata": {
    "colab": {
      "name": "876. Middle of the Linked List.ipynb",
      "provenance": [],
      "collapsed_sections": []
    },
    "kernelspec": {
      "name": "python3",
      "display_name": "Python 3"
    },
    "language_info": {
      "name": "python"
    }
  },
  "cells": [
    {
      "cell_type": "markdown",
      "source": [
        "876. Middle of the Linked \n",
        "\n",
        "Easy\n",
        "\n",
        "Given the head of a singly linked list, return the middle node of the linked list.\n",
        "\n",
        "If there are two middle nodes, return the second middle node."
      ],
      "metadata": {
        "id": "2YgQWgemDuBC"
      }
    },
    {
      "cell_type": "code",
      "execution_count": null,
      "metadata": {
        "id": "4YqNHM0uiDT6"
      },
      "outputs": [],
      "source": [
        "# Definition for singly-linked list.\n",
        "# class ListNode(object):\n",
        "#     def __init__(self, val=0, next=None):\n",
        "#         self.val = val\n",
        "#         self.next = next\n",
        "class Solution(object):\n",
        "    def middleNode(self, head):\n",
        "        \"\"\"\n",
        "        :type head: ListNode\n",
        "        :rtype: ListNode\n",
        "        \"\"\"\n",
        "        slow=fast=head\n",
        "        while (fast and fast.next ):\n",
        "            slow=slow.next\n",
        "            fast=fast.next.next\n",
        "        return slow\n",
        "        \n",
        "        \n",
        "        \n",
        "        \n",
        "     "
      ]
    },
    {
      "cell_type": "markdown",
      "source": [
        "We traverse the linkedlist once using slow and fast pointers. As the fast pointer is moving twice as slow pointer,When it reaches the end of the linkedlist the slow pointer would've only gone half of the linkedlist."
      ],
      "metadata": {
        "id": "Apxhnh1SD0e9"
      }
    }
  ]
}