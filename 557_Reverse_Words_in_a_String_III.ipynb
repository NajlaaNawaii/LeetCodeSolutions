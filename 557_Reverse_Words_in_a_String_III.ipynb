{
  "nbformat": 4,
  "nbformat_minor": 0,
  "metadata": {
    "colab": {
      "name": "557. Reverse Words in a String III.ipynb",
      "provenance": [],
      "collapsed_sections": []
    },
    "kernelspec": {
      "name": "python3",
      "display_name": "Python 3"
    },
    "language_info": {
      "name": "python"
    }
  },
  "cells": [
    {
      "cell_type": "markdown",
      "source": [
        "557. Reverse Words in a String III\n",
        "\n",
        "Easy\n",
        "\n",
        "Given a string s, reverse the order of characters in each word within a sentence while still preserving whitespace and initial word order."
      ],
      "metadata": {
        "id": "stwHuTE-F_XQ"
      }
    },
    {
      "cell_type": "code",
      "execution_count": null,
      "metadata": {
        "id": "-s5uB_Z4hzox"
      },
      "outputs": [],
      "source": [
        "class Solution(object):\n",
        "    def reverseWords(self, s):\n",
        "        \"\"\"\n",
        "        :type s: str\n",
        "        :rtype: str\n",
        "        \"\"\"\n",
        "        return  \" \".join(word[::-1] for word in s.split(\" \"))"
      ]
    },
    {
      "cell_type": "markdown",
      "source": [
        "We first splitted the string into words (list of words), for every word we used slicing to reverse the letters in it from start to finish and then we join the reversed words into a string again."
      ],
      "metadata": {
        "id": "p_Deap8RAt8D"
      }
    }
  ]
}