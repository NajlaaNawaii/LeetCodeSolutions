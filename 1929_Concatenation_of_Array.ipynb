{
  "nbformat": 4,
  "nbformat_minor": 0,
  "metadata": {
    "colab": {
      "name": "1929. Concatenation of Array.ipynb",
      "provenance": [],
      "collapsed_sections": []
    },
    "kernelspec": {
      "name": "python3",
      "display_name": "Python 3"
    },
    "language_info": {
      "name": "python"
    }
  },
  "cells": [
    {
      "cell_type": "markdown",
      "source": [
        "1929. Concatenation of Array\n",
        "\n",
        "Easy\n",
        "\n",
        "Given an integer array nums of length n, you want to create an array ans of length 2n where ans[i] == nums[i] and ans[i + n] == nums[i] for 0 <= i < n (0-indexed).\n",
        "\n",
        "Specifically, ans is the concatenation of two nums arrays.\n",
        "\n",
        "Return the array ans."
      ],
      "metadata": {
        "id": "sLBVQ2bRBHLb"
      }
    },
    {
      "cell_type": "code",
      "execution_count": null,
      "metadata": {
        "id": "KrqRd6qJBAZC"
      },
      "outputs": [],
      "source": [
        "class Solution(object):\n",
        "    def getConcatenation(self, nums):\n",
        "        \"\"\"\n",
        "        :type nums: List[int]\n",
        "        :rtype: List[int]\n",
        "        \"\"\"\n",
        "     \treturn nums * 2"
      ]
    }
  ]
}