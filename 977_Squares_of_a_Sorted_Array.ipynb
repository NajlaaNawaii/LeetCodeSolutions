{
  "nbformat": 4,
  "nbformat_minor": 0,
  "metadata": {
    "colab": {
      "name": "977_Squares of a Sorted Array.ipynb",
      "provenance": []
    },
    "kernelspec": {
      "name": "python3",
      "display_name": "Python 3"
    },
    "language_info": {
      "name": "python"
    }
  },
  "cells": [
    {
      "cell_type": "markdown",
      "source": [
        "977. Squares of a Sorted Array\n",
        "\n",
        "Easy\n",
        "\n",
        "Given an integer array nums sorted in non-decreasing order, return an array of the squares of each number sorted in non-decreasing order."
      ],
      "metadata": {
        "id": "9KNJRTtRT1ET"
      }
    },
    {
      "cell_type": "code",
      "execution_count": null,
      "metadata": {
        "id": "HyLrkVsjTxP4"
      },
      "outputs": [],
      "source": [
        "#Solution 1\n",
        "class Solution(object):\n",
        "    def sortedSquares(self, nums):\n",
        "        \"\"\"\n",
        "        :type nums: List[int]\n",
        "        :rtype: List[int]\n",
        "        \"\"\"\n",
        "        for i,_ in enumerate(nums):\n",
        "            nums[i]=nums[i]**2\n",
        "            \n",
        "        nums.sort()    \n",
        "        return nums\n",
        "        \n",
        "#Solution 2\n",
        "class Solution(object):\n",
        "    def sortedSquares(self, nums):\n",
        "        \"\"\"\n",
        "        :type nums: List[int]\n",
        "        :rtype: List[int]\n",
        "        \"\"\"\n",
        "        left,right=0,len(nums)-1\n",
        "        array=[]\n",
        "        while left <= right:\n",
        "            if nums[left] **2 > nums[right]**2:\n",
        "                array.append(nums[left]**2)\n",
        "                left+=1\n",
        "            else:\n",
        "                array.append(nums[right]**2)\n",
        "                right-=1\n",
        "        return array[::-1]\n",
        "        "
      ]
    },
    {
      "cell_type": "markdown",
      "source": [
        "In the first solution we square the values in place and then we sort the outcome array as it would be squared but not sorted. But, this solution have the complexity of O(nlogn) because we used sorting.\n",
        "The second solution with using two pointers moving from the two ends of the array(towards the middle, the smallest values ) we only go through the array once so it's with O(n) complexity but we use extra space for storing the ordered array."
      ],
      "metadata": {
        "id": "ibSBB2IIjcUG"
      }
    }
  ]
}