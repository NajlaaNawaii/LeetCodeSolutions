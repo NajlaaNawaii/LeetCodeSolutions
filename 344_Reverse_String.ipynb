{
  "nbformat": 4,
  "nbformat_minor": 0,
  "metadata": {
    "colab": {
      "name": "344. Reverse String.ipynb",
      "provenance": [],
      "collapsed_sections": []
    },
    "kernelspec": {
      "name": "python3",
      "display_name": "Python 3"
    },
    "language_info": {
      "name": "python"
    }
  },
  "cells": [
    {
      "cell_type": "markdown",
      "source": [
        "344. Reverse String\n",
        "\n",
        "Easy\n",
        "\n",
        "Write a function that reverses a string. The input string is given as an array of characters s.\n",
        "\n",
        "You must do this by modifying the input array in-place with O(1) extra memory.\n",
        "\n",
        " "
      ],
      "metadata": {
        "id": "K3LCe0zkH5Fz"
      }
    },
    {
      "cell_type": "code",
      "execution_count": null,
      "metadata": {
        "id": "5nGC1fDJh52_"
      },
      "outputs": [],
      "source": [
        "class Solution(object):\n",
        "    def reverseString(self, s):\n",
        "        \"\"\"\n",
        "        :type s: List[str]\n",
        "        :rtype: None Do not return anything, modify s in-place instead.\n",
        "        \"\"\"\n",
        "        # i=0\n",
        "        # j=len(s)-1\n",
        "        # while i < j :\n",
        "        #     s[i],s[j]=s[j],s[i]\n",
        "        #     i+=1\n",
        "        #     j-=1\n",
        "\n",
        "        \n",
        "        return s.reverse()\n",
        "            "
      ]
    },
    {
      "cell_type": "markdown",
      "source": [
        "Here we can get a solution with using built in reverse function, And the commented code explains how reversing with two pointers will be implemented."
      ],
      "metadata": {
        "id": "h1Fuxd1FH_0v"
      }
    }
  ]
}