{
  "nbformat": 4,
  "nbformat_minor": 0,
  "metadata": {
    "colab": {
      "name": "695. Max Area of Island.ipynb",
      "provenance": [],
      "collapsed_sections": []
    },
    "kernelspec": {
      "name": "python3",
      "display_name": "Python 3"
    },
    "language_info": {
      "name": "python"
    }
  },
  "cells": [
    {
      "cell_type": "markdown",
      "source": [
        "695. Max Area of Island\n",
        "\n",
        "Medium\n",
        "\n",
        "\n",
        "You are given an m x n binary matrix grid. An island is a group of 1's (representing land) connected 4-directionally (horizontal or vertical.) You may assume all four edges of the grid are surrounded by water.\n",
        "\n",
        "The area of an island is the number of cells with a value 1 in the island.\n",
        "\n",
        "Return the maximum area of an island in grid. If there is no island, return 0.\n",
        "\n",
        " "
      ],
      "metadata": {
        "id": "KIo1Cb9Rsufo"
      }
    },
    {
      "cell_type": "code",
      "execution_count": null,
      "metadata": {
        "id": "NAJXtqdtstzZ"
      },
      "outputs": [],
      "source": [
        "class Solution:\n",
        "    def maxAreaOfIsland(self, grid):\n",
        "        n = len(grid)\n",
        "        m = len(grid[0])\n",
        "        \n",
        "        def dfs(x, y):\n",
        "            if (0 <= x and x < n) and (0 <= y and y < m) and grid[x][y]:\n",
        "                grid[x][y] = 0\n",
        "                return dfs(x + 1, y) + dfs(x - 1, y) + dfs(x, y + 1) + dfs(x, y - 1) + 1\n",
        "            return 0\n",
        "        \n",
        "        maximum = 0\n",
        "        for i in range(n):\n",
        "            for j in range(m):\n",
        "                if grid[i][j]:\n",
        "                    maximum = max(maximum, dfs(i, j))\n",
        "    \n",
        "        return maximum"
      ]
    },
    {
      "cell_type": "markdown",
      "source": [
        "Here we iterate through the entire grid, and when we find a pixel that's not 0(island) we do full depth first search on four directions(recursively) to keep track of how many pixels on this island. and after that we take the maximum length of all the islands."
      ],
      "metadata": {
        "id": "Widlo5G5d9NV"
      }
    }
  ]
}