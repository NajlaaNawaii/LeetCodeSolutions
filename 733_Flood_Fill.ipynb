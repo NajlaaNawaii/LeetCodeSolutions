{
  "nbformat": 4,
  "nbformat_minor": 0,
  "metadata": {
    "colab": {
      "name": "733. Flood Fill.ipynb",
      "provenance": [],
      "collapsed_sections": []
    },
    "kernelspec": {
      "name": "python3",
      "display_name": "Python 3"
    },
    "language_info": {
      "name": "python"
    }
  },
  "cells": [
    {
      "cell_type": "markdown",
      "source": [
        "733. Flood Fill\n",
        "\n",
        "Easy\n",
        "\n",
        "An image is represented by an m x n integer grid image where image[i][j] represents the pixel value of the image.\n",
        "\n",
        "You are also given three integers sr, sc, and newColor. You should perform a flood fill on the image starting from the pixel image[sr][sc].\n",
        "\n",
        "To perform a flood fill, consider the starting pixel, plus any pixels connected 4-directionally to the starting pixel of the same color as the starting pixel, plus any pixels connected 4-directionally to those pixels (also with the same color), and so on. Replace the color of all of the aforementioned pixels with newColor.\n",
        "\n",
        "Return the modified image after performing the flood fill."
      ],
      "metadata": {
        "id": "nlnd_ZX7AtYP"
      }
    },
    {
      "cell_type": "code",
      "execution_count": null,
      "metadata": {
        "id": "2rNecvgJAVWr"
      },
      "outputs": [],
      "source": [
        "class Solution(object):\n",
        "    def floodFill(self, image, sr, sc, newColor):\n",
        "        \"\"\"\n",
        "        :type image: List[List[int]]\n",
        "        :type sr: int\n",
        "        :type sc: int\n",
        "        :type newColor: int\n",
        "        :rtype: List[List[int]]\n",
        "    \n",
        "        \"\"\"\n",
        "        row=len(image)\n",
        "        col=len(image[0])\n",
        "        original = image[sr][sc]\n",
        "        \n",
        "        def dfs(sr,sc):\n",
        "            if 0<=sr<row and 0<=sc<col and image[sr][sc] == original : \n",
        "                image[sr][sc] =newColor\n",
        "                dfs(sr-1,sc)\n",
        "                dfs(sr+1,sc)\n",
        "                dfs(sr,sc-1)\n",
        "                dfs(sr,sc+1)\n",
        "                \n",
        "                \n",
        "        if image[sr][sc] != newColor:\n",
        "            dfs(sr,sc)\n",
        "                \n",
        "        return image\n",
        "\n",
        "\n",
        "                \n",
        "                "
      ]
    },
    {
      "cell_type": "markdown",
      "source": [
        "Here we traverse through the pixels of the grid using depth first search,Meaning **YES** we look for all the 4 closed pixels for the same value, But we must keep in mind that in implementation when we visit a pixel we search its neighbors first recursively until they end **AND THEN** we go back to our previous pixel and so on."
      ],
      "metadata": {
        "id": "L0joSLCKAscn"
      }
    }
  ]
}