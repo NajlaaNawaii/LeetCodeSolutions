{
  "nbformat": 4,
  "nbformat_minor": 0,
  "metadata": {
    "colab": {
      "name": "617. Merge Two Binary Trees.ipynb",
      "provenance": [],
      "collapsed_sections": []
    },
    "kernelspec": {
      "name": "python3",
      "display_name": "Python 3"
    },
    "language_info": {
      "name": "python"
    }
  },
  "cells": [
    {
      "cell_type": "markdown",
      "source": [
        "617. Merge Two Binary Trees\n",
        "\n",
        "Easy\n",
        "\n",
        "You are given two binary trees root1 and root2.\n",
        "\n",
        "Imagine that when you put one of them to cover the other, some nodes of the two trees are overlapped while the others are not. You need to merge the two trees into a new binary tree. The merge rule is that if two nodes overlap, then sum node values up as the new value of the merged node. Otherwise, the NOT null node will be used as the node of the new tree.\n",
        "\n",
        "Return the merged tree.\n",
        "\n",
        "Note: The merging process must start from the root nodes of both trees.\n",
        "\n"
      ],
      "metadata": {
        "id": "avpw0XpcpSvW"
      }
    },
    {
      "cell_type": "code",
      "execution_count": null,
      "metadata": {
        "id": "BDE2fru6pO7i"
      },
      "outputs": [],
      "source": [
        "# Definition for a binary tree node.\n",
        "# class TreeNode(object):\n",
        "#     def __init__(self, val=0, left=None, right=None):\n",
        "#         self.val = val\n",
        "#         self.left = left\n",
        "#         self.right = right\n",
        "class Solution(object):\n",
        "    def mergeTrees(self, root1, root2):\n",
        "        \"\"\"\n",
        "        :type root1: TreeNode\n",
        "        :type root2: TreeNode\n",
        "        :rtype: TreeNode\n",
        "        \"\"\"\n",
        "        if root1 == None :\n",
        "            return root2\n",
        "        if root2 == None :\n",
        "            return root1\n",
        "        \n",
        "        root=TreeNode(root1.val+root2.val) #Remember to make it a treenode\n",
        "        root.left= self.mergeTrees(root1.left , root2.left)\n",
        "        root.right= self.mergeTrees(root1.right ,root2.right)\n",
        "        \n",
        "        return root\n",
        "\n",
        "        \n",
        "        "
      ]
    },
    {
      "cell_type": "markdown",
      "source": [
        "First we check if one of the trees is empty so we return the other. After that we make a new **TreeNode**, we add up the two values of the roots of the two trees and after that we traverse the tree recursively, we take the left side of the root node and then we consider this new left node as our new root and we do the whole function on it until there's no nodes again and then we traverse back to the right side and after it's done from the two sides of this node we traverse back the primary node and so on."
      ],
      "metadata": {
        "id": "danqSP4RphqA"
      }
    }
  ]
}