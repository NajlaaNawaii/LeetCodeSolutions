{
  "nbformat": 4,
  "nbformat_minor": 0,
  "metadata": {
    "colab": {
      "name": "19. Remove Nth Node From End of List.ipynb",
      "provenance": [],
      "collapsed_sections": []
    },
    "kernelspec": {
      "name": "python3",
      "display_name": "Python 3"
    },
    "language_info": {
      "name": "python"
    }
  },
  "cells": [
    {
      "cell_type": "markdown",
      "source": [
        "19. Remove Nth Node From End of List\n",
        "\n",
        "Medium\n",
        "\n",
        "\n",
        "Given the head of a linked list, remove the nth node from the end of the list and return its head."
      ],
      "metadata": {
        "id": "OLzjyS3TELrw"
      }
    },
    {
      "cell_type": "code",
      "execution_count": null,
      "metadata": {
        "id": "dc5Zt6qQh9G9"
      },
      "outputs": [],
      "source": [
        "# Definition for singly-linked list.\n",
        "# class ListNode(object):\n",
        "#     def __init__(self, val=0, next=None):\n",
        "#         self.val = val\n",
        "#         self.next = next\n",
        "class Solution(object):\n",
        "    def removeNthFromEnd(self, head, n):\n",
        "        \"\"\"\n",
        "        :type head: ListNode\n",
        "        :type n: int\n",
        "        :rtype: ListNode\n",
        "        \"\"\"\n",
        "        Dummy_node=ListNode(0,head)\n",
        "        left=Dummy_node\n",
        "        right=head\n",
        "        \n",
        "        #setting the right pointer at the space n+1 from left\n",
        "        while ( n > 0 and right):\n",
        "            right=right.next\n",
        "            n-=1\n",
        "            \n",
        "        #traverse the linkedlist\n",
        "        while (right):\n",
        "            right=right.next\n",
        "            left=left.next\n",
        "            \n",
        "         #remove the node\n",
        "        left.next=left.next.next\n",
        "        return Dummy_node.next"
      ]
    },
    {
      "cell_type": "markdown",
      "source": [
        "We'll use two pointers with a space between them equal to n and then we increment them one step at a time so when the right pointer at the end of the list the left pointer will be at the nth position from the end, so that's the node we want to remove.\n",
        "\n",
        "in order to remove this node, we have to set the previous node's next to the node after the removed node .. And that can be done by assigning the left pointer to a dummy head so that it'll stop at the nth-1 position and allow us to do the removal."
      ],
      "metadata": {
        "id": "RVG-n807Av8L"
      }
    }
  ]
}