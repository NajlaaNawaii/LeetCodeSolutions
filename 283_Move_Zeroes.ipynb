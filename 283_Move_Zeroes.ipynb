{
  "nbformat": 4,
  "nbformat_minor": 0,
  "metadata": {
    "colab": {
      "name": "283. Move Zeroes.ipynb",
      "provenance": []
    },
    "kernelspec": {
      "name": "python3",
      "display_name": "Python 3"
    },
    "language_info": {
      "name": "python"
    }
  },
  "cells": [
    {
      "cell_type": "markdown",
      "source": [
        "283. Move Zeroes\n",
        "\n",
        "Easy\n",
        "\n",
        "Given an integer array nums, move all 0's to the end of it while maintaining the relative order of the non-zero elements.\n",
        "\n",
        "Note that you must do this in-place without making a copy of the array."
      ],
      "metadata": {
        "id": "dTnTjkyHm3gT"
      }
    },
    {
      "cell_type": "code",
      "execution_count": null,
      "metadata": {
        "id": "yMi5I-ZemzJ_"
      },
      "outputs": [],
      "source": [
        "class Solution(object):\n",
        "    def moveZeroes(self, nums):\n",
        "        \"\"\"\n",
        "        :type nums: List[int]\n",
        "        :rtype: None Do not return anything, modify nums in-place instead.\n",
        "        \"\"\"\n",
        "        ZeroPointer=0\n",
        "        for i in range(len(nums)):\n",
        "            if nums[i] != 0:\n",
        "                nums[ZeroPointer],nums[i]=nums[i],nums[ZeroPointer]\n",
        "                ZeroPointer+=1\n",
        "                \n",
        "        "
      ]
    },
    {
      "cell_type": "markdown",
      "source": [
        "The main idea of the solution is to partition your array into two arrays left and right according to a specific rule which is zeroes and non-zeroes elements,So instead of using two different arrays(Extra memory) and then concatenating them we use pointers, one for the zeroes elements and one goes through the array for non-zeroes and switching between them. "
      ],
      "metadata": {
        "id": "fhGtwlemnbEw"
      }
    }
  ]
}