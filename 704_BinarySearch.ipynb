{
  "nbformat": 4,
  "nbformat_minor": 0,
  "metadata": {
    "colab": {
      "name": "704_BinarySearch.ipynb",
      "provenance": [],
      "collapsed_sections": []
    },
    "kernelspec": {
      "name": "python3",
      "display_name": "Python 3"
    },
    "language_info": {
      "name": "python"
    }
  },
  "cells": [
    {
      "cell_type": "markdown",
      "source": [
        "704. Binary Search\n",
        "**Easy**\n",
        "\n",
        "Given an array of integers nums which is sorted in ascending order, and an integer target, write a function to search target in nums. If target exists, then return its index. Otherwise, return -1.\n",
        "\n",
        "You must write an algorithm with O(log n) runtime complexity.\n"
      ],
      "metadata": {
        "id": "wnPr-32y9tdI"
      }
    },
    {
      "cell_type": "code",
      "execution_count": null,
      "metadata": {
        "id": "GFhnS9rR9fzP"
      },
      "outputs": [],
      "source": [
        "class Solution(object):\n",
        "    def search(self, nums, target):\n",
        "        \"\"\"\n",
        "        :type nums: List[int]\n",
        "        :type target: int\n",
        "        :rtype: int\n",
        "        \"\"\"\n",
        "        n=len(nums)\n",
        "        low=0\n",
        "        high=n-1\n",
        "        while low <= high: \n",
        "            position=(low+high)//2\n",
        "            if target==nums[position]:\n",
        "                return position\n",
        "            \n",
        "            if nums[position]>target:\n",
        "                    high=position-1\n",
        "            else:\n",
        "                    low=position+1\n",
        "        return -1"
      ]
    },
    {
      "cell_type": "markdown",
      "source": [
        ""
      ],
      "metadata": {
        "id": "uFhqCMGp9r3b"
      }
    }
  ]
}