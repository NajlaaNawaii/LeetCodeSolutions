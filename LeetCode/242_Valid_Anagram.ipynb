{
  "nbformat": 4,
  "nbformat_minor": 0,
  "metadata": {
    "colab": {
      "provenance": [],
      "authorship_tag": "ABX9TyNIGnhdIoRb4LD5vVIRJd7n",
      "include_colab_link": true
    },
    "kernelspec": {
      "name": "python3",
      "display_name": "Python 3"
    },
    "language_info": {
      "name": "python"
    }
  },
  "cells": [
    {
      "cell_type": "markdown",
      "metadata": {
        "id": "view-in-github",
        "colab_type": "text"
      },
      "source": [
        "<a href=\"https://colab.research.google.com/github/NajlaaNawaii/ProgrammingSkills/blob/main/LeetCode/242_Valid_Anagram.ipynb\" target=\"_parent\"><img src=\"https://colab.research.google.com/assets/colab-badge.svg\" alt=\"Open In Colab\"/></a>"
      ]
    },
    {
      "cell_type": "code",
      "execution_count": null,
      "metadata": {
        "id": "4MKPM-a0EtQy"
      },
      "outputs": [],
      "source": [
        "class Solution:\n",
        "    def isAnagram(self, s: str, t: str) -> bool:\n",
        "#It should be noted that even with different insertion order, the comparison is keys-values pairs\n",
        "        dict_s={}\n",
        "        for x in s:\n",
        "            if x in dict_s:\n",
        "                dict_s[x]+=1\n",
        "            else:\n",
        "                dict_s[x]=1\n",
        "\n",
        "        dict_t={}\n",
        "        for x in t:\n",
        "            if x in dict_t:\n",
        "                dict_t[x]+=1\n",
        "            else:\n",
        "                dict_t[x]=1\n",
        "        return dict_t == dict_s\n",
        "\n",
        "\n",
        "#This commented code doesn't work because the words could have the same length and using the same letters but the frequency is different\n",
        "        # if len(s) == len(t):\n",
        "        #      return set(s) == set(t)\n",
        "        # else:\n",
        "        #     return False\n",
        ""
      ]
    }
  ]
}