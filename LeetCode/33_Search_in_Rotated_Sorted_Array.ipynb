{
  "nbformat": 4,
  "nbformat_minor": 0,
  "metadata": {
    "colab": {
      "provenance": [],
      "authorship_tag": "ABX9TyNKCnof5TsNne7NuTsJ80sG",
      "include_colab_link": true
    },
    "kernelspec": {
      "name": "python3",
      "display_name": "Python 3"
    },
    "language_info": {
      "name": "python"
    }
  },
  "cells": [
    {
      "cell_type": "markdown",
      "metadata": {
        "id": "view-in-github",
        "colab_type": "text"
      },
      "source": [
        "<a href=\"https://colab.research.google.com/github/NajlaaNawaii/ProgrammingSkills/blob/main/LeetCode/33_Search_in_Rotated_Sorted_Array.ipynb\" target=\"_parent\"><img src=\"https://colab.research.google.com/assets/colab-badge.svg\" alt=\"Open In Colab\"/></a>"
      ]
    },
    {
      "cell_type": "code",
      "execution_count": null,
      "metadata": {
        "id": "EM2ED4cA2mzw"
      },
      "outputs": [],
      "source": [
        "class Solution:\n",
        "    def search(self, nums: List[int], target: int) -> int:\n",
        "        left,right=0,(len(nums)-1)\n",
        "        while left <= right: #making sure nothing goes out of index\n",
        "            mid= (left+right)//2\n",
        "            if nums[mid]==target:\n",
        "                return mid\n",
        "            #check to find the sorted array to search and potentially eliminate\n",
        "            #the reason for inner if-else because one condition is executed\n",
        "            elif nums[left] <= nums[mid]:\n",
        "                if nums[left]<= target <=nums[mid]:\n",
        "                    right=mid-1\n",
        "                else:\n",
        "                    left=mid+1\n",
        "            elif nums[right] >= nums[mid]:\n",
        "                if nums[mid]<=target<=nums[right]:\n",
        "                    left=mid+1\n",
        "                else:\n",
        "                    right=mid-1\n",
        "        return -1\n",
        "\n"
      ]
    }
  ]
}