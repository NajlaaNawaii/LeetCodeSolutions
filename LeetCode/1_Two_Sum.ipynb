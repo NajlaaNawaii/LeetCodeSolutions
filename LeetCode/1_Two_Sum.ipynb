{
  "nbformat": 4,
  "nbformat_minor": 0,
  "metadata": {
    "colab": {
      "provenance": [],
      "authorship_tag": "ABX9TyNRtZBSo0BuWuGrMiepzNrS",
      "include_colab_link": true
    },
    "kernelspec": {
      "name": "python3",
      "display_name": "Python 3"
    },
    "language_info": {
      "name": "python"
    }
  },
  "cells": [
    {
      "cell_type": "markdown",
      "metadata": {
        "id": "view-in-github",
        "colab_type": "text"
      },
      "source": [
        "<a href=\"https://colab.research.google.com/github/NajlaaNawaii/ProgrammingSkills/blob/main/LeetCode/1_Two_Sum.ipynb\" target=\"_parent\"><img src=\"https://colab.research.google.com/assets/colab-badge.svg\" alt=\"Open In Colab\"/></a>"
      ]
    },
    {
      "cell_type": "code",
      "execution_count": null,
      "metadata": {
        "id": "1Rm_cirDJdOY"
      },
      "outputs": [],
      "source": [
        "class Solution:\n",
        "    def twoSum(self, nums: List[int], target: int) -> List[int]:\n",
        "        dictionary_indices={}\n",
        "        for i,num in enumerate(nums):\n",
        "            remaining= target - num\n",
        "            if remaining in dictionary_indices:\n",
        "                return [dictionary_indices[remaining],i]\n",
        "            else:\n",
        "                dictionary_indices[num]=i\n",
        "\n",
        "        return []\n",
        "\n",
        "\n",
        "#This solution works but it has the complexity of sorting first\n",
        "        # nums_with_indices = [(num, i) for i, num in enumerate(nums)]\n",
        "        # nums_with_indices=sorted(nums_with_indices)\n",
        "        # n=len(nums_with_indices)\n",
        "        # l,r=0,n-1\n",
        "        # while l<=r:\n",
        "        #     if nums_with_indices[l][0] + nums_with_indices[r][0] == target:\n",
        "        #         return [nums_with_indices[l][1] ,nums_with_indices[r][1]]\n",
        "\n",
        "        #     elif target > nums_with_indices[l][0] + nums_with_indices[r][0] :\n",
        "        #         l=l+1\n",
        "        #     else:\n",
        "        #         r=r-1\n",
        "\n",
        "#This solution doesn't handle when duplicates in the in list aren't after one another\n",
        "        # nums_s=sorted(nums)\n",
        "        # n=len(nums)\n",
        "        # l,r=0,n-1\n",
        "        # while l<=r:\n",
        "        #     if nums_s[l] + nums_s[r] == target:\n",
        "        #         if nums_s[l] == nums_s[r]:\n",
        "        #             return [nums.index(nums_s[l]),nums.index(nums_s[l])+1]\n",
        "        #         else:\n",
        "        #             return [nums.index(nums_s[l]),nums.index(nums_s[r])]\n",
        "        #     elif target > nums_s[l] + nums_s[r] :\n",
        "        #         l=l+1\n",
        "        #     else:\n",
        "        #         r=r-1\n",
        "\n",
        "\n",
        ""
      ]
    }
  ]
}