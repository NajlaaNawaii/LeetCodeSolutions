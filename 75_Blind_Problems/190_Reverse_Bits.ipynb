{
  "nbformat": 4,
  "nbformat_minor": 0,
  "metadata": {
    "colab": {
      "provenance": [],
      "authorship_tag": "ABX9TyPenfe8YQAt5Q56A0urzA9c",
      "include_colab_link": true
    },
    "kernelspec": {
      "name": "python3",
      "display_name": "Python 3"
    },
    "language_info": {
      "name": "python"
    }
  },
  "cells": [
    {
      "cell_type": "markdown",
      "metadata": {
        "id": "view-in-github",
        "colab_type": "text"
      },
      "source": [
        "<a href=\"https://colab.research.google.com/github/NajlaaNawaii/ProgrammingSkills/blob/main/75_Blind_Problems/190_Reverse_Bits.ipynb\" target=\"_parent\"><img src=\"https://colab.research.google.com/assets/colab-badge.svg\" alt=\"Open In Colab\"/></a>"
      ]
    },
    {
      "cell_type": "code",
      "execution_count": null,
      "metadata": {
        "id": "_VbPQYdfROT-"
      },
      "outputs": [],
      "source": [
        "class Solution:\n",
        "    def reverseBits(self, n: int) -> int:\n",
        "        #intially all 32 bits are zero\n",
        "        res=0\n",
        "        for i in range(32):\n",
        "            #to know what is the bit at each position\n",
        "            bit = (n >> i) & 1\n",
        "\n",
        "            #to put it in the reversed position\n",
        "            res= res | (bit << 31 - i)\n",
        "        return res"
      ]
    }
  ]
}