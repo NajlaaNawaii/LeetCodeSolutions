{
  "nbformat": 4,
  "nbformat_minor": 0,
  "metadata": {
    "colab": {
      "provenance": [],
      "authorship_tag": "ABX9TyNTLTg11R785UWWcRRUa5A6",
      "include_colab_link": true
    },
    "kernelspec": {
      "name": "python3",
      "display_name": "Python 3"
    },
    "language_info": {
      "name": "python"
    }
  },
  "cells": [
    {
      "cell_type": "markdown",
      "metadata": {
        "id": "view-in-github",
        "colab_type": "text"
      },
      "source": [
        "<a href=\"https://colab.research.google.com/github/NajlaaNawaii/ProgrammingSkills/blob/main/75_Blind_Problems/121_Best_Time_to_Buy_and_Sell_Stock.ipynb\" target=\"_parent\"><img src=\"https://colab.research.google.com/assets/colab-badge.svg\" alt=\"Open In Colab\"/></a>"
      ]
    },
    {
      "cell_type": "code",
      "execution_count": null,
      "metadata": {
        "id": "CsXwTUMATjzr"
      },
      "outputs": [],
      "source": [
        "#This solution works but it's not clean and not efficient\n",
        "#It iterates through the entire list, updating large at each step and checks if the current position is smaller. Then it calculates profits and checks for the maximum\n",
        "class Solution:\n",
        "    def maxProfit(self, prices: List[int]) -> int:\n",
        "        i,j=0,1\n",
        "        max_profit=0\n",
        "        small=prices[i]\n",
        "        length=len(prices)\n",
        "        while j < length:\n",
        "            small = min(prices[i] , small)\n",
        "            large = prices[j]\n",
        "            profit = large-small\n",
        "            max_profit=max(max_profit,profit)\n",
        "            i+=1\n",
        "            j+=1\n",
        "        return max_profit\n"
      ]
    },
    {
      "cell_type": "code",
      "source": [
        "#this solution uses min and max function instead of doing manually, uses for instead of while and encountring list of index problems\n",
        "#how does it insure having sell day being after buy day? it only updates profit if it's bigger and the loop insures it only happen consequently\n",
        "class Solution:\n",
        "    def maxProfit(self, prices: List[int]) -> int:\n",
        "        small=prices[0]\n",
        "        max_profit=0\n",
        "        for x in prices:\n",
        "            small=min(x,small)\n",
        "            profit=x-small\n",
        "            max_profit=max(max_profit,profit)\n",
        "        return max_profit"
      ],
      "metadata": {
        "id": "SR2nt6K5UvYd"
      },
      "execution_count": null,
      "outputs": []
    }
  ]
}