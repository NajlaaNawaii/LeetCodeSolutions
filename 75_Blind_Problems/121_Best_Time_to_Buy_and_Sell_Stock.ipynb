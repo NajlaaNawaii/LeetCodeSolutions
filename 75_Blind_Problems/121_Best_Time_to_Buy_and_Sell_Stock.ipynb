{
  "nbformat": 4,
  "nbformat_minor": 0,
  "metadata": {
    "colab": {
      "provenance": [],
      "authorship_tag": "ABX9TyN+BEf1Y6U0q6+dDCuBgOun",
      "include_colab_link": true
    },
    "kernelspec": {
      "name": "python3",
      "display_name": "Python 3"
    },
    "language_info": {
      "name": "python"
    }
  },
  "cells": [
    {
      "cell_type": "markdown",
      "metadata": {
        "id": "view-in-github",
        "colab_type": "text"
      },
      "source": [
        "<a href=\"https://colab.research.google.com/github/NajlaaNawaii/ProgrammingSkills/blob/main/75_Blind_Problems/121_Best_Time_to_Buy_and_Sell_Stock.ipynb\" target=\"_parent\"><img src=\"https://colab.research.google.com/assets/colab-badge.svg\" alt=\"Open In Colab\"/></a>"
      ]
    },
    {
      "cell_type": "code",
      "execution_count": null,
      "metadata": {
        "id": "CsXwTUMATjzr"
      },
      "outputs": [],
      "source": [
        "#This solution works but it's not clean and not efficient\n",
        "#It iterates thriugh the entire list, updating large at each step and checks if the current position is smaller. Then it calculates profits and checks for the maximum\n",
        "class Solution:\n",
        "    def maxProfit(self, prices: List[int]) -> int:\n",
        "        i,j=0,1\n",
        "        max_profit=0\n",
        "        small=prices[i]\n",
        "        length=len(prices)\n",
        "        while j < length:\n",
        "            small = min(prices[i] , small)\n",
        "            large = prices[j]\n",
        "            profit = large-small\n",
        "            max_profit=max(max_profit,profit)\n",
        "            i+=1\n",
        "            j+=1\n",
        "        return max_profit\n"
      ]
    },
    {
      "cell_type": "code",
      "source": [
        "class Solution:\n",
        "    def maxProfit(self, prices: List[int]) -> int:\n",
        "        small=prices[0]\n",
        "        max_profit=0\n",
        "        for x in prices:\n",
        "            small=min(x,small)\n",
        "            profit=x-small\n",
        "            max_profit=max(max_profit,profit)\n",
        "        return max_profit"
      ],
      "metadata": {
        "id": "SR2nt6K5UvYd"
      },
      "execution_count": null,
      "outputs": []
    }
  ]
}