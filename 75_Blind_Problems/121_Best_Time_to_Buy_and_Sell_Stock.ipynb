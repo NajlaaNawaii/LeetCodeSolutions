{
  "nbformat": 4,
  "nbformat_minor": 0,
  "metadata": {
    "colab": {
      "provenance": [],
      "include_colab_link": true
    },
    "kernelspec": {
      "name": "python3",
      "display_name": "Python 3"
    },
    "language_info": {
      "name": "python"
    }
  },
  "cells": [
    {
      "cell_type": "markdown",
      "metadata": {
        "id": "view-in-github",
        "colab_type": "text"
      },
      "source": [
        "<a href=\"https://colab.research.google.com/github/NajlaaNawaii/ProgrammingSkills/blob/main/75_Blind_Problems/121_Best_Time_to_Buy_and_Sell_Stock.ipynb\" target=\"_parent\"><img src=\"https://colab.research.google.com/assets/colab-badge.svg\" alt=\"Open In Colab\"/></a>"
      ]
    },
    {
      "cell_type": "code",
      "source": [
        "class Solution:\n",
        "    def maxProfit(self, prices: List[int]) -> int:\n",
        "        #The smallest will only change if there's a smaller value, and the smallest is compared with all values coming after it\n",
        "        n=len(prices)\n",
        "        l,r=0,1\n",
        "        max_profit=0\n",
        "        smallest=prices[l]\n",
        "        while r < n:\n",
        "            if prices[l] < smallest:\n",
        "                smallest=prices[l]\n",
        "            profit=prices[r]-smallest\n",
        "            if profit > max_profit:\n",
        "                max_profit=profit\n",
        "            r+=1\n",
        "            l+=1\n",
        "        return max_profit\n",
        "\n",
        "\n",
        "        #This solution can stop before getting to the actual max_profit, it stops where l=r , and the update happens from the two sides\n",
        "        # n=len(prices)\n",
        "        # l,r=0,n-1\n",
        "        # max_profit=0\n",
        "        # biggest=prices[r]\n",
        "        # smallest=prices[l]\n",
        "        # while l <= r:\n",
        "        #     if prices[r] > biggest:\n",
        "        #         biggest=prices[r]\n",
        "        #     if prices[l] < smallest:\n",
        "        #         smallest=prices[l]\n",
        "        #     profit=biggest-smallest\n",
        "        #     if profit > max_profit:\n",
        "        #         max_profit=profit\n",
        "        #     l,r=l+1,r-1\n",
        "        # return max_profit\n",
        "\n",
        "\n",
        "        # #this solution won't let for example 6 to be compared with 1, sorting isn't valid\n",
        "        # prices_sorted = sorted(prices)\n",
        "        # n=len(prices)\n",
        "        # l,r=0,n-1\n",
        "        # max_profit=0\n",
        "        # while l <= r:\n",
        "        #     if prices.index(prices_sorted[r]) > prices.index(prices_sorted[l]):\n",
        "        #         profit=prices_sorted[r]-prices_sorted[l]\n",
        "        #         if profit > max_profit:\n",
        "        #             max_profit=profit\n",
        "        #     l,r=l+1,r-1\n",
        "        # return max_profit\n",
        "\n",
        "        # max_profit=0\n",
        "        # for i,x in enumerate(prices):\n",
        "        #     j=i+1\n",
        "        #     while j < len(prices):\n",
        "        #         profit=prices[j] - x\n",
        "        #         if profit > max_profit:\n",
        "        #             max_profit=profit\n",
        "        #         j+=1\n",
        "        # return max_profit\n",
        ""
      ],
      "metadata": {
        "id": "RA1KUcegL0K_"
      },
      "execution_count": null,
      "outputs": []
    },
    {
      "cell_type": "code",
      "execution_count": null,
      "metadata": {
        "id": "CsXwTUMATjzr"
      },
      "outputs": [],
      "source": [
        "#This solution works but it's not clean and not efficient\n",
        "#It iterates through the entire list, updating large at each step and checks if the current position is smaller. Then it calculates profits and checks for the maximum\n",
        "class Solution:\n",
        "    def maxProfit(self, prices: List[int]) -> int:\n",
        "        i,j=0,1\n",
        "        max_profit=0\n",
        "        small=prices[i]\n",
        "        length=len(prices)\n",
        "        while j < length:\n",
        "            small = min(prices[i] , small)\n",
        "            large = prices[j]\n",
        "            profit = large-small\n",
        "            max_profit=max(max_profit,profit)\n",
        "            i+=1\n",
        "            j+=1\n",
        "        return max_profit\n"
      ]
    },
    {
      "cell_type": "code",
      "source": [
        "#this solution uses min and max function instead of doing manually, uses for instead of while and encountring list of index problems\n",
        "#how does it insure having sell day being after buy day? it only updates profit if it's bigger and the loop insures it only happen consequently\n",
        "class Solution:\n",
        "    def maxProfit(self, prices: List[int]) -> int:\n",
        "        small=prices[0]\n",
        "        max_profit=0\n",
        "        for x in prices:\n",
        "            small=min(x,small)\n",
        "            profit=x-small\n",
        "            max_profit=max(max_profit,profit)\n",
        "        return max_profit"
      ],
      "metadata": {
        "id": "SR2nt6K5UvYd"
      },
      "execution_count": null,
      "outputs": []
    }
  ]
}