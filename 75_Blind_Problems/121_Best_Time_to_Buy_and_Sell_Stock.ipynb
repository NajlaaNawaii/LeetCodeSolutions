{
  "nbformat": 4,
  "nbformat_minor": 0,
  "metadata": {
    "colab": {
      "name": "121. Best Time to Buy and Sell Stock.ipynb",
      "provenance": [],
      "authorship_tag": "ABX9TyNoeY5USbVXjrMjf8BeBUd+",
      "include_colab_link": true
    },
    "kernelspec": {
      "name": "python3",
      "display_name": "Python 3"
    },
    "language_info": {
      "name": "python"
    }
  },
  "cells": [
    {
      "cell_type": "markdown",
      "metadata": {
        "id": "view-in-github",
        "colab_type": "text"
      },
      "source": [
        "<a href=\"https://colab.research.google.com/github/NajlaaNawaii/ProgrammingSkills/blob/main/75_Blind_Problems/121_Best_Time_to_Buy_and_Sell_Stock.ipynb\" target=\"_parent\"><img src=\"https://colab.research.google.com/assets/colab-badge.svg\" alt=\"Open In Colab\"/></a>"
      ]
    },
    {
      "cell_type": "markdown",
      "source": [
        "Brute Force, You pass throuh the outer loop and for every element you check the combinations with the remaining elements.\n",
        "Solved O(n*2)"
      ],
      "metadata": {
        "id": "j99tloRu5_8k"
      }
    },
    {
      "cell_type": "code",
      "execution_count": null,
      "metadata": {
        "id": "93gfeIYI54mz"
      },
      "outputs": [],
      "source": [
        "class Solution(object):\n",
        "    def maxProfit(self, prices):\n",
        "        \"\"\"\n",
        "        :type prices: List[int]\n",
        "        :rtype: int\n",
        "        \"\"\"\n",
        "        length=len(prices)\n",
        "        i,j=0,length-1\n",
        "        maximum=0\n",
        "        while i < j :\n",
        "            x=i+1\n",
        "            for y in range(j-i):\n",
        "                if (prices[x]-prices[i]) > maximum:\n",
        "                    maximum=prices[x]-prices[i]\n",
        "                x+=1\n",
        "            i+=1\n",
        "\n",
        "        return maximum\n",
        "        "
      ]
    }
  ]
}