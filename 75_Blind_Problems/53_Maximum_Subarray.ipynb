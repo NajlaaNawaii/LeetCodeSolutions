{
  "nbformat": 4,
  "nbformat_minor": 0,
  "metadata": {
    "colab": {
      "provenance": [],
      "authorship_tag": "ABX9TyMJNRIGhPKZOJxeJqZngscq",
      "include_colab_link": true
    },
    "kernelspec": {
      "name": "python3",
      "display_name": "Python 3"
    },
    "language_info": {
      "name": "python"
    }
  },
  "cells": [
    {
      "cell_type": "markdown",
      "metadata": {
        "id": "view-in-github",
        "colab_type": "text"
      },
      "source": [
        "<a href=\"https://colab.research.google.com/github/NajlaaNawaii/ProgrammingSkills/blob/main/75_Blind_Problems/53_Maximum_Subarray.ipynb\" target=\"_parent\"><img src=\"https://colab.research.google.com/assets/colab-badge.svg\" alt=\"Open In Colab\"/></a>"
      ]
    },
    {
      "cell_type": "code",
      "execution_count": null,
      "metadata": {
        "id": "80vphDrJrbPW"
      },
      "outputs": [],
      "source": [
        "'''\n",
        "- This solution iterates through the list, deciding at each step where is the\n",
        "maximum so far\n",
        "- Time complexity: O(N)\n",
        "- Space Complexity: O(1)\n",
        "'''\n",
        "\n",
        "\n",
        "class Solution:\n",
        "    def maxSubArray(self, nums: List[int]) -> int:\n",
        "        max_sum=nums[0]\n",
        "        current_sum=0\n",
        "\n",
        "        for num in nums:\n",
        "            current_sum=max(num,current_sum+num)\n",
        "            max_sum=max(max_sum,current_sum)\n",
        "        return max_sum\n",
        "\n",
        ""
      ]
    },
    {
      "cell_type": "code",
      "source": [
        "'''\n",
        "- This solution discard subarray if it's sum is less than zero at each step,\n",
        "and it iterates untill reaching the maximum sum.\n",
        "- Time Complexity=O(N)\n",
        "- Space Complexity: O(1)\n",
        "'''\n",
        "\n",
        "class Solution:\n",
        "    def maxSubArray(self, nums: List[int]) -> int:\n",
        "\n",
        "        max_sum=nums[0]\n",
        "        current_sum=0\n",
        "        for num in nums:\n",
        "            current_sum=max(0,current_sum)\n",
        "            current_sum+=num\n",
        "\n",
        "            max_sum=max(max_sum,current_sum)\n",
        "        return max_sum\n"
      ],
      "metadata": {
        "id": "g2tpVlyoruwD"
      },
      "execution_count": null,
      "outputs": []
    },
    {
      "cell_type": "code",
      "source": [
        "'''\n",
        "- This solution iterates through the list and at each position it looks for\n",
        "all subarrays.\n",
        "- Time Complexity: O(N^2)\n",
        "- Space Complexity: O(1)\n",
        "'''\n",
        "\n",
        "class Solution:\n",
        "    def maxSubArray(self, nums: List[int]) -> int:\n",
        "        global_max= float('-inf') #or nums[0]\n",
        "        for i in range(len(nums)):\n",
        "            current_sum=0\n",
        "            for j in range(i,len(nums)):\n",
        "                current_sum+=nums[j]\n",
        "                global_max=max(global_max,current_sum)\n",
        "\n",
        "        return global_max"
      ],
      "metadata": {
        "id": "yHEn0SrFrvoT"
      },
      "execution_count": null,
      "outputs": []
    }
  ]
}