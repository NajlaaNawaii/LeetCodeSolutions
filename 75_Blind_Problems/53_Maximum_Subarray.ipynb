{
  "nbformat": 4,
  "nbformat_minor": 0,
  "metadata": {
    "colab": {
      "provenance": [],
      "authorship_tag": "ABX9TyMGEzzVRykbKhoAowlnBY+X",
      "include_colab_link": true
    },
    "kernelspec": {
      "name": "python3",
      "display_name": "Python 3"
    },
    "language_info": {
      "name": "python"
    }
  },
  "cells": [
    {
      "cell_type": "markdown",
      "metadata": {
        "id": "view-in-github",
        "colab_type": "text"
      },
      "source": [
        "<a href=\"https://colab.research.google.com/github/NajlaaNawaii/ProgrammingSkills/blob/main/75_Blind_Problems/53_Maximum_Subarray.ipynb\" target=\"_parent\"><img src=\"https://colab.research.google.com/assets/colab-badge.svg\" alt=\"Open In Colab\"/></a>"
      ]
    },
    {
      "cell_type": "code",
      "execution_count": null,
      "metadata": {
        "id": "9dp69lkmvRJ7"
      },
      "outputs": [],
      "source": [
        "#This solution isn't complete, it solves 151/210 test cases\n",
        "class Solution:\n",
        "    def maxSubArray(self, nums: List[int]) -> int:\n",
        "        Sum=0\n",
        "        my_List=[]\n",
        "        max_sum=0\n",
        "        for x in nums:\n",
        "            my_List.append(x)\n",
        "            Sum=sum(my_List)\n",
        "            if Sum < 0:\n",
        "                my_List.pop(0)\n",
        "            max_sum=max(Sum,max_sum)\n",
        "        return max_sum\n",
        "\n"
      ]
    },
    {
      "cell_type": "code",
      "source": [
        "#This solution solves the problem of using extra space, it checks whether the addtion of this current element maximize the running sum or this element is bigger than the running sum.\n",
        "class Solution:\n",
        "    def maxSubArray(self, nums: List[int]) -> int:\n",
        "        Sum=nums[0]\n",
        "        max_sum=nums[0]\n",
        "        for i in range(1,len(nums)):\n",
        "            Sum=max(nums[i],nums[i]+Sum)\n",
        "            max_sum=max(Sum,max_sum)\n",
        "        return max_sum\n",
        "\n"
      ],
      "metadata": {
        "id": "A7fULZDLBzFc"
      },
      "execution_count": null,
      "outputs": []
    }
  ]
}