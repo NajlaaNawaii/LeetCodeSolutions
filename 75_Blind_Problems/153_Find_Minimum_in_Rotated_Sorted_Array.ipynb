{
  "nbformat": 4,
  "nbformat_minor": 0,
  "metadata": {
    "colab": {
      "provenance": [],
      "authorship_tag": "ABX9TyPZb+o/ikyAfrLZ+P5O5Dja",
      "include_colab_link": true
    },
    "kernelspec": {
      "name": "python3",
      "display_name": "Python 3"
    },
    "language_info": {
      "name": "python"
    }
  },
  "cells": [
    {
      "cell_type": "markdown",
      "metadata": {
        "id": "view-in-github",
        "colab_type": "text"
      },
      "source": [
        "<a href=\"https://colab.research.google.com/github/NajlaaNawaii/ProgrammingSkills/blob/main/75_Blind_Problems/153_Find_Minimum_in_Rotated_Sorted_Array.ipynb\" target=\"_parent\"><img src=\"https://colab.research.google.com/assets/colab-badge.svg\" alt=\"Open In Colab\"/></a>"
      ]
    },
    {
      "cell_type": "code",
      "source": [
        "''' The code runs by doing binary search, it looks for the sorted half(left or\n",
        " right) and take its minimum value and updates if it's smaller that the current minimum '''\n",
        "class Solution:\n",
        "    def findMin(self, nums: List[int]) -> int:\n",
        "        n=len(nums)\n",
        "        left=0\n",
        "        right=n-1\n",
        "        minimum=float('inf')\n",
        "        while left <= right:\n",
        "            mid=(left+right)//2\n",
        "            if nums[left] <= nums[mid]:\n",
        "                minimum=min(minimum,nums[left])\n",
        "                left=mid+1\n",
        "            else:\n",
        "                minimum=min(minimum,nums[mid])\n",
        "                right=mid-1\n",
        "        return minimum\n",
        "\n",
        "\n",
        ""
      ],
      "metadata": {
        "id": "xEqA2VvWcZWK"
      },
      "execution_count": null,
      "outputs": []
    },
    {
      "cell_type": "code",
      "source": [
        "''' This code does the same thing, but it compares the mid instead of the\n",
        "leftmost minimum value of the founded sorted half, and it's slightly slower'''\n",
        "class Solution:\n",
        "    def findMin(self, nums: List[int]) -> int:\n",
        "        n=len(nums)\n",
        "        left=0\n",
        "        right=n-1\n",
        "        minimum=float('inf')\n",
        "        while left <= right:\n",
        "            if nums[left] <= nums[right]:\n",
        "                minimum=min(minimum,nums[left])\n",
        "            mid=(left+right)//2\n",
        "            minimum=min(minimum,nums[mid])\n",
        "            if nums[left] <= nums[mid]:\n",
        "                    left=mid+1\n",
        "            else:\n",
        "                    right=mid-1\n",
        "        return minimum\n"
      ],
      "metadata": {
        "id": "Nij_w6iEfLlt"
      },
      "execution_count": null,
      "outputs": []
    }
  ]
}