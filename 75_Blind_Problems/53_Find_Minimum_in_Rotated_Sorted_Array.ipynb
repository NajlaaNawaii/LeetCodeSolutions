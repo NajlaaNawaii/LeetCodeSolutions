{
  "cells": [
    {
      "cell_type": "markdown",
      "metadata": {
        "colab_type": "text",
        "id": "view-in-github"
      },
      "source": [
        "<a href=\"https://colab.research.google.com/github/NajlaaNawaii/ProgrammingSkills/blob/main/75_Blind_Problems/53_Find_Minimum_in_Rotated_Sorted_Array.ipynb\" target=\"_parent\"><img src=\"https://colab.research.google.com/assets/colab-badge.svg\" alt=\"Open In Colab\"/></a>"
      ]
    },
    {
      "cell_type": "code",
      "execution_count": null,
      "metadata": {
        "id": "b_xYSN1Vp6Zd"
      },
      "outputs": [],
      "source": [
        "'''\n",
        "- This solution iterates through the list, deciding at each step which part of\n",
        "the list is sorted to discard it and use mid points to find to minum. \n",
        "- Time Complexity: O(log n)\n",
        "- Space Complexity: O(1)\n",
        "'''\n",
        "class Solution:\n",
        "    def findMin(self, nums: List[int]) -> int:\n",
        "        l,r=0,len(nums)-1\n",
        "        global_min=float('inf')\n",
        "\n",
        "        while l <= r:\n",
        "            #if the array is sorted\n",
        "            if nums[l] <= nums[r]:\n",
        "                global_min=min(global_min,nums[l])\n",
        "\n",
        "            #if it's sorted\n",
        "            mid=(l+r)//2\n",
        "            global_min=min(global_min,nums[mid])\n",
        "\n",
        "            #discarding the sorted part of the list\n",
        "            if nums[mid] >= nums[l]:\n",
        "                l=mid+1\n",
        "            else:\n",
        "                r=mid-1\n",
        "        return global_min\n",
        "\n",
        "\n"
      ]
    }
  ],
  "metadata": {
    "colab": {
      "authorship_tag": "ABX9TyOUo5ZbYSYVsAPYYJhH4CUn",
      "include_colab_link": true,
      "provenance": []
    },
    "kernelspec": {
      "display_name": "Python 3",
      "name": "python3"
    },
    "language_info": {
      "name": "python"
    }
  },
  "nbformat": 4,
  "nbformat_minor": 0
}
