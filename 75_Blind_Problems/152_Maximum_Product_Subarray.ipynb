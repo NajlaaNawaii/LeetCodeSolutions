{
  "nbformat": 4,
  "nbformat_minor": 0,
  "metadata": {
    "colab": {
      "provenance": [],
      "authorship_tag": "ABX9TyNdPJsfmyvL7FSDrOnFn4Pm",
      "include_colab_link": true
    },
    "kernelspec": {
      "name": "python3",
      "display_name": "Python 3"
    },
    "language_info": {
      "name": "python"
    }
  },
  "cells": [
    {
      "cell_type": "markdown",
      "metadata": {
        "id": "view-in-github",
        "colab_type": "text"
      },
      "source": [
        "<a href=\"https://colab.research.google.com/github/NajlaaNawaii/ProgrammingSkills/blob/main/75_Blind_Problems/152_Maximum_Product_Subarray.ipynb\" target=\"_parent\"><img src=\"https://colab.research.google.com/assets/colab-badge.svg\" alt=\"Open In Colab\"/></a>"
      ]
    },
    {
      "cell_type": "code",
      "source": [
        "'''\n",
        "- This solution looks for the maximum and minimum at each step to handle\n",
        "the negative values product.\n",
        "Time Complexity: O(N)\n",
        "Space Complexity: O(1)\n",
        "'''\n",
        "class Solution:\n",
        "    def maxProduct(self, nums: List[int]) -> int:\n",
        "\n",
        "        global_product=nums[0]\n",
        "        current_max=1\n",
        "        current_min=1\n",
        "\n",
        "        for num in nums:\n",
        "\n",
        "            temp=current_max*num\n",
        "            current_max=max(num,current_max*num,current_min*num)\n",
        "            current_min=min(num,temp,current_min*num)\n",
        "\n",
        "\n",
        "\n",
        "            global_product=max(global_product,current_max)\n",
        "\n",
        "        return global_product\n",
        "\n"
      ],
      "metadata": {
        "id": "TuoWlr477yLB"
      },
      "execution_count": null,
      "outputs": []
    },
    {
      "cell_type": "code",
      "source": [
        "'''\n",
        "- This solution look for all the possible subarrays' products, extremely\n",
        "Inefficient.\n",
        "Time Complexity: O(N^2)\n",
        "Space Complexity: O(1)\n",
        "'''\n",
        "\n",
        "class Solution:\n",
        "    def maxProduct(self, nums: List[int]) -> int:\n",
        "        global_max=nums[0]\n",
        "\n",
        "        for i,num in enumerate(nums):\n",
        "            prod=1\n",
        "            for j in range(i,len(nums)):\n",
        "                prod*=nums[j]\n",
        "                global_max=max(global_max,prod)\n",
        "\n",
        "        return global_max"
      ],
      "metadata": {
        "id": "nwC4-6Fq76qx"
      },
      "execution_count": null,
      "outputs": []
    }
  ]
}