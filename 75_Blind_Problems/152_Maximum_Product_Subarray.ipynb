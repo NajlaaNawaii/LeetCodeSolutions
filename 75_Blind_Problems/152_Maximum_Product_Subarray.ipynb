{
  "nbformat": 4,
  "nbformat_minor": 0,
  "metadata": {
    "colab": {
      "provenance": [],
      "authorship_tag": "ABX9TyNvmEOYj8DEXDUrBF/UmPoq",
      "include_colab_link": true
    },
    "kernelspec": {
      "name": "python3",
      "display_name": "Python 3"
    },
    "language_info": {
      "name": "python"
    }
  },
  "cells": [
    {
      "cell_type": "markdown",
      "metadata": {
        "id": "view-in-github",
        "colab_type": "text"
      },
      "source": [
        "<a href=\"https://colab.research.google.com/github/NajlaaNawaii/ProgrammingSkills/blob/main/75_Blind_Problems/152_Maximum_Product_Subarray.ipynb\" target=\"_parent\"><img src=\"https://colab.research.google.com/assets/colab-badge.svg\" alt=\"Open In Colab\"/></a>"
      ]
    },
    {
      "cell_type": "code",
      "execution_count": null,
      "metadata": {
        "id": "Vc1c5zGKaC4C"
      },
      "outputs": [],
      "source": [
        "'''It's a dynamic programming problem because at each step you're calculating the\n",
        "same calculations and building upon them'''\n",
        "class Solution:\n",
        "    def maxProduct(self, nums: List[int]) -> int:\n",
        "        product_min= 1\n",
        "        product_max=1\n",
        "        reult=max(nums) #keeps track of the global Maximum\n",
        "        for i in range(len(nums)):\n",
        "            if nums[i]==0:\n",
        "                product_min= 1\n",
        "                product_max=1\n",
        "            else:\n",
        "                tmp=nums[i]*product_min\n",
        "                product_min= min(nums[i]*product_min,nums[i]*product_max,nums[i])\n",
        "                product_max= max(tmp,nums[i]*product_max,nums[i]) #product_min is changed\n",
        "                result=max(product_max,res)\n",
        "\n",
        "        return result\n",
        "\n",
        "\n",
        ""
      ]
    }
  ]
}