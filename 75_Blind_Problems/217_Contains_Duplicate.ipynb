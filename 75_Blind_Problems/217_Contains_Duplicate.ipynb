{
  "nbformat": 4,
  "nbformat_minor": 0,
  "metadata": {
    "colab": {
      "provenance": [],
      "authorship_tag": "ABX9TyPn1x+QH0Jcpji7iCFcDeBp",
      "include_colab_link": true
    },
    "kernelspec": {
      "name": "python3",
      "display_name": "Python 3"
    },
    "language_info": {
      "name": "python"
    }
  },
  "cells": [
    {
      "cell_type": "markdown",
      "metadata": {
        "id": "view-in-github",
        "colab_type": "text"
      },
      "source": [
        "<a href=\"https://colab.research.google.com/github/NajlaaNawaii/ProgrammingSkills/blob/main/75_Blind_Problems/217_Contains_Duplicate.ipynb\" target=\"_parent\"><img src=\"https://colab.research.google.com/assets/colab-badge.svg\" alt=\"Open In Colab\"/></a>"
      ]
    },
    {
      "cell_type": "code",
      "execution_count": 7,
      "metadata": {
        "id": "uXcKaKhFWhC5"
      },
      "outputs": [],
      "source": [
        "class Solution:\n",
        "    def containsDuplicate(self, nums: list[int]) -> bool:\n",
        "        seen={}\n",
        "        for num in nums:\n",
        "            if num in seen:\n",
        "                return True\n",
        "            seen[num]=seen.get(num,0) +1 #Gets the value of the key or it defaults into having a value of zer0(don't exist!)\n",
        "        return False\n"
      ]
    },
    {
      "cell_type": "markdown",
      "source": [
        "One simple elegant solution, Sets in python only stores unique values."
      ],
      "metadata": {
        "id": "2LzwveFCaCQh"
      }
    },
    {
      "cell_type": "code",
      "source": [
        "class Solution:\n",
        "    def containsDuplicate(self, nums: list[int]) -> bool:\n",
        "                return len(set(nums))!=len(nums)\n"
      ],
      "metadata": {
        "id": "KSt5azxpaJ8y"
      },
      "execution_count": 4,
      "outputs": []
    },
    {
      "cell_type": "code",
      "source": [],
      "metadata": {
        "id": "YgEITHxNaxfa"
      },
      "execution_count": null,
      "outputs": []
    }
  ]
}