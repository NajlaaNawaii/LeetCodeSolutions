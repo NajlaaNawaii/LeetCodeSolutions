{
  "nbformat": 4,
  "nbformat_minor": 0,
  "metadata": {
    "colab": {
      "provenance": [],
      "authorship_tag": "ABX9TyPPhjxFgo0YG+x0cxiywGoM",
      "include_colab_link": true
    },
    "kernelspec": {
      "name": "python3",
      "display_name": "Python 3"
    },
    "language_info": {
      "name": "python"
    }
  },
  "cells": [
    {
      "cell_type": "markdown",
      "metadata": {
        "id": "view-in-github",
        "colab_type": "text"
      },
      "source": [
        "<a href=\"https://colab.research.google.com/github/NajlaaNawaii/ProgrammingSkills/blob/main/75_Blind_Problems/268_Missing_Number.ipynb\" target=\"_parent\"><img src=\"https://colab.research.google.com/assets/colab-badge.svg\" alt=\"Open In Colab\"/></a>"
      ]
    },
    {
      "cell_type": "code",
      "execution_count": null,
      "metadata": {
        "id": "XvOcZRtHnpMU"
      },
      "outputs": [],
      "source": [
        "class Solution:\n",
        "    def missingNumber(self, nums: List[int]) -> int:\n",
        "        n = len(nums)\n",
        "\n",
        "        # XOR all numbers in the array\n",
        "        xor_nums = 0\n",
        "        for num in nums:\n",
        "            xor_nums ^= num\n",
        "\n",
        "        # XOR the result with numbers from 0 to n\n",
        "        xor_all = 0\n",
        "        for i in range(n + 1):\n",
        "            xor_all ^= i\n",
        "\n",
        "        # The remaining XOR is the missing number\n",
        "        return xor_nums ^ xor_all\n",
        ""
      ]
    }
  ]
}