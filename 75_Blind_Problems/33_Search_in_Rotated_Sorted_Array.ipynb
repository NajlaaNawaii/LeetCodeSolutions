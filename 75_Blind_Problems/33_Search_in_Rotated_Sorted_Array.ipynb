{
  "nbformat": 4,
  "nbformat_minor": 0,
  "metadata": {
    "colab": {
      "provenance": [],
      "include_colab_link": true
    },
    "kernelspec": {
      "name": "python3",
      "display_name": "Python 3"
    },
    "language_info": {
      "name": "python"
    }
  },
  "cells": [
    {
      "cell_type": "markdown",
      "metadata": {
        "id": "view-in-github",
        "colab_type": "text"
      },
      "source": [
        "<a href=\"https://colab.research.google.com/github/NajlaaNawaii/ProgrammingSkills/blob/main/75_Blind_Problems/33_Search_in_Rotated_Sorted_Array.ipynb\" target=\"_parent\"><img src=\"https://colab.research.google.com/assets/colab-badge.svg\" alt=\"Open In Colab\"/></a>"
      ]
    },
    {
      "cell_type": "code",
      "execution_count": null,
      "metadata": {
        "id": "EM2ED4cA2mzw"
      },
      "outputs": [],
      "source": [
        "'''\n",
        "- This solution iterates through the list, looks for the sorted part, search for\n",
        "the target with it. HIGHLY INEFFICIENT (but it works)\n",
        "- Time Complexity: O(log n) or O(N) \"pointers in the sencod half\"\n",
        "- Space Complexity: O(1)\n",
        "'''\n",
        "\n",
        "class Solution:\n",
        "    def search(self, nums: List[int], target: int) -> int:\n",
        "        l,r=0,len(nums)-1\n",
        "\n",
        "        while l <= r:\n",
        "\n",
        "            if nums[l] <= nums[r]:\n",
        "                mid=(l+r)//2\n",
        "                print(l,r,mid)\n",
        "                if nums[mid] == target:\n",
        "                    return mid\n",
        "                elif nums[mid] >= target:\n",
        "                    r-=1\n",
        "                elif nums[mid] <= target:\n",
        "                    l+=1\n",
        "                else:\n",
        "                    return -1\n",
        "\n",
        "            else:\n",
        "                if target > nums[l]:\n",
        "                    if nums[l]==target:\n",
        "                        return l\n",
        "                    l+=1\n",
        "\n",
        "                else:\n",
        "                    if nums[r]==target:\n",
        "                        return r\n",
        "                    r-=1\n",
        "\n",
        "        return -1\n",
        "\n",
        "\n"
      ]
    }
  ]
}