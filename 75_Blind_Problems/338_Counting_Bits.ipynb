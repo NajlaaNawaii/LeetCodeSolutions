{
  "nbformat": 4,
  "nbformat_minor": 0,
  "metadata": {
    "colab": {
      "provenance": [],
      "authorship_tag": "ABX9TyMEa3xB77BPpZlcCUWJha5f",
      "include_colab_link": true
    },
    "kernelspec": {
      "name": "python3",
      "display_name": "Python 3"
    },
    "language_info": {
      "name": "python"
    }
  },
  "cells": [
    {
      "cell_type": "markdown",
      "metadata": {
        "id": "view-in-github",
        "colab_type": "text"
      },
      "source": [
        "<a href=\"https://colab.research.google.com/github/NajlaaNawaii/ProgrammingSkills/blob/main/75_Blind_Problems/338_Counting_Bits.ipynb\" target=\"_parent\"><img src=\"https://colab.research.google.com/assets/colab-badge.svg\" alt=\"Open In Colab\"/></a>"
      ]
    },
    {
      "cell_type": "code",
      "execution_count": null,
      "metadata": {
        "id": "2wwTJXdFO7qz"
      },
      "outputs": [],
      "source": [
        "'''The key optimization is the use of the offset variable, which resets at\n",
        "powers of 2, streamlining the calculation process by efficiently referencing\n",
        "previously computed counts., the number of 1 repeats in a cyclic manner for\n",
        "each group of numbers'''\n",
        "class Solution:\n",
        "    def countBits(self, n: int) -> List[int]:\n",
        "        dp = [0] * (n + 1)\n",
        "        offset= 1\n",
        "        for i in range(1, n + 1):\n",
        "        #if the current i is a power of 2,resets for the next group of numbers\n",
        "            if offset * 2 == i:\n",
        "                offset = i\n",
        "            dp[i] = 1+dp[i-offset]\n",
        "\n",
        "        return dp\n"
      ]
    }
  ]
}