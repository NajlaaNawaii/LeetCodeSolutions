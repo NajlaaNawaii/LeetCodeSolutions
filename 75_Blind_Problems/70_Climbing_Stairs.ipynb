{
  "nbformat": 4,
  "nbformat_minor": 0,
  "metadata": {
    "colab": {
      "provenance": [],
      "authorship_tag": "ABX9TyMruOxM4G2QlQBHbiOvd8pP",
      "include_colab_link": true
    },
    "kernelspec": {
      "name": "python3",
      "display_name": "Python 3"
    },
    "language_info": {
      "name": "python"
    }
  },
  "cells": [
    {
      "cell_type": "markdown",
      "metadata": {
        "id": "view-in-github",
        "colab_type": "text"
      },
      "source": [
        "<a href=\"https://colab.research.google.com/github/NajlaaNawaii/ProgrammingSkills/blob/main/75_Blind_Problems/70_Climbing_Stairs.ipynb\" target=\"_parent\"><img src=\"https://colab.research.google.com/assets/colab-badge.svg\" alt=\"Open In Colab\"/></a>"
      ]
    },
    {
      "cell_type": "code",
      "execution_count": null,
      "metadata": {
        "id": "pRDd8dcliRYF"
      },
      "outputs": [],
      "source": [
        "class Solution:\n",
        "    def climbStairs(self, n: int) -> int:\n",
        "        dp=[0]*(n+1)\n",
        "\n",
        "        if n == 1:\n",
        "                return 1\n",
        "        if n == 2:\n",
        "                return 2\n",
        "\n",
        "        #if we're at step 1, there 1 way to get there\n",
        "        dp[1]=1\n",
        "        #if we're at step 2, there 2 ways to get there\n",
        "        dp[2]=2\n",
        "\n",
        "        for i in range(3,n+1):\n",
        "            #Fill in the array using the recurrence relation\n",
        "            dp[i]=dp[i-1]+dp[i-2]\n",
        "\n",
        "\n",
        "        return dp[n]\n",
        ""
      ]
    }
  ]
}