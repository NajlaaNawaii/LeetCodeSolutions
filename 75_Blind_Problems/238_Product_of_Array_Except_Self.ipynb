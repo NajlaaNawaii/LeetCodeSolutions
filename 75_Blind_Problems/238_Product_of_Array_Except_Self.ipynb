{
  "nbformat": 4,
  "nbformat_minor": 0,
  "metadata": {
    "colab": {
      "provenance": [],
      "include_colab_link": true
    },
    "kernelspec": {
      "name": "python3",
      "display_name": "Python 3"
    },
    "language_info": {
      "name": "python"
    }
  },
  "cells": [
    {
      "cell_type": "markdown",
      "metadata": {
        "id": "view-in-github",
        "colab_type": "text"
      },
      "source": [
        "<a href=\"https://colab.research.google.com/github/NajlaaNawaii/ProgrammingSkills/blob/main/75_Blind_Problems/238_Product_of_Array_Except_Self.ipynb\" target=\"_parent\"><img src=\"https://colab.research.google.com/assets/colab-badge.svg\" alt=\"Open In Colab\"/></a>"
      ]
    },
    {
      "cell_type": "code",
      "source": [
        "'''\n",
        "- Iterate through the array twice in separate loops, first calculating the prefix and then the suffix all in-place.\n",
        "- Time Complexity: O(n)\n",
        "- Space Complexity: O(1), No additional space used apart from the output array.\n",
        "'''\n",
        "class Solution:\n",
        "    def productExceptSelf(self, nums: List[int]) -> List[int]:\n",
        "\n",
        "        n=len(nums)-1\n",
        "        Answer=[1]*len(nums)\n",
        "\n",
        "\n",
        "        product_pre=1\n",
        "        for i in range(len(nums)):\n",
        "            Answer[i]=product_pre\n",
        "            product_pre*=nums[i]\n",
        "\n",
        "        product_post=1\n",
        "        j=n\n",
        "        while j >= 0:\n",
        "            Answer[j]=product_post*Answer[j]\n",
        "            product_post*=nums[j]\n",
        "            j-=1\n",
        "\n",
        "        return Answer\n",
        ""
      ],
      "metadata": {
        "id": "ZP-_uShqSNu1"
      },
      "execution_count": null,
      "outputs": []
    },
    {
      "cell_type": "code",
      "source": [
        "'''\n",
        "- This solution calculates pre and post arrays trading the time of the O(N) for extra memory.\n",
        "- Time Complexity: O(n).\n",
        "- Space Complexity: O(n).\n",
        "'''\n",
        "class Solution:\n",
        "    def productExceptSelf(self, nums: List[int]) -> List[int]:\n",
        "\n",
        "      n=len(nums)\n",
        "      Answer_pre=[1]*n\n",
        "      Answer_post=[1]*n\n",
        "      Answer=[1]*n\n",
        "\n",
        "      prod_pre=1\n",
        "      for i in range(len(nums)):\n",
        "          prod_pre*=nums[i]\n",
        "          Answer_pre[i]=prod_pre\n",
        "\n",
        "      prod_post=1\n",
        "      j=len(nums)-1\n",
        "      while j >= 0:\n",
        "          prod_post*=nums[j]\n",
        "          Answer_post[j]=prod_post\n",
        "          j-=1\n",
        "\n",
        "      for k in range(len(nums)):\n",
        "          print(k)\n",
        "          if k == 0:\n",
        "              Answer[k]= 1 * Answer_post[k+1]\n",
        "          elif k == n-1:\n",
        "              Answer[k]= Answer_pre[k-1] * 1\n",
        "          else:\n",
        "              Answer[k]= Answer_pre[k-1] * Answer_post[k+1]\n",
        "\n",
        "      return Answer"
      ],
      "metadata": {
        "id": "Ukkn-o4ROh5p"
      },
      "execution_count": null,
      "outputs": []
    },
    {
      "cell_type": "code",
      "source": [
        "'''\n",
        "- This solution is brute force, works in O(n^2), it loop through the list, and at each time it calculates the prefix and suffix products.\n",
        "- Time Complexity: O(n^2)\n",
        "- Space Complexity: O(1), No additional space used apart from the output array.\n",
        "'''\n",
        "class Solution:\n",
        "    def productExceptSelf(self, nums: List[int]) -> List[int]:\n",
        "\n",
        "      answer=[]\n",
        "      for i,x in enumerate(nums):\n",
        "          k=0\n",
        "          prod_prev=1\n",
        "          while k < i:\n",
        "              prod_prev*=nums[k]\n",
        "              k+=1\n",
        "\n",
        "          m=i+1\n",
        "          prod_after=1\n",
        "          while m < len(nums):\n",
        "              prod_after*=nums[m]\n",
        "              m+=1\n",
        "\n",
        "          answer.append( prod_prev * prod_after)\n",
        "      return answer\n"
      ],
      "metadata": {
        "id": "fIdrBfar8zz_"
      },
      "execution_count": null,
      "outputs": []
    },
    {
      "cell_type": "code",
      "source": [
        "#This solution works but it has the problem of dividing by zero and this solution isn't allowed XD\n",
        "nums=[1,2,3,4]\n",
        "def productExceptSelf(nums: list[int]) -> list[int]:\n",
        "    answer=[1]*len(nums)\n",
        "    j=0\n",
        "    product=1\n",
        "    while j < len(nums):\n",
        "        product=product*nums[j]\n",
        "        j+=1\n",
        "    j=0\n",
        "    while j < len(nums):\n",
        "        answer[j]=product/nums[j]\n",
        "        j+=1\n",
        "    return answer\n",
        "productExceptSelf(nums)\n"
      ],
      "metadata": {
        "id": "iwPD4pNsOAvf"
      },
      "execution_count": null,
      "outputs": []
    }
  ]
}