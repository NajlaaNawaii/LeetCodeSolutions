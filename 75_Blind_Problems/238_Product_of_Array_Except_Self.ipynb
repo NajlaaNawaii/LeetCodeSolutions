{
  "nbformat": 4,
  "nbformat_minor": 0,
  "metadata": {
    "colab": {
      "provenance": [],
      "authorship_tag": "ABX9TyOE65MzAXyBITcaM61sryPp",
      "include_colab_link": true
    },
    "kernelspec": {
      "name": "python3",
      "display_name": "Python 3"
    },
    "language_info": {
      "name": "python"
    }
  },
  "cells": [
    {
      "cell_type": "markdown",
      "metadata": {
        "id": "view-in-github",
        "colab_type": "text"
      },
      "source": [
        "<a href=\"https://colab.research.google.com/github/NajlaaNawaii/ProgrammingSkills/blob/main/75_Blind_Problems/238_Product_of_Array_Except_Self.ipynb\" target=\"_parent\"><img src=\"https://colab.research.google.com/assets/colab-badge.svg\" alt=\"Open In Colab\"/></a>"
      ]
    },
    {
      "cell_type": "code",
      "execution_count": null,
      "metadata": {
        "id": "bxifuG4qKbqX"
      },
      "outputs": [],
      "source": [
        "#Brute force solution that gives Time Limit Exceeded error , 18/22 test cases\n",
        "class Solution:\n",
        "    def productExceptSelf(self, nums: List[int]) -> List[int]:\n",
        "        answer=[1]*len(nums)\n",
        "        j=0\n",
        "        while j < len(nums):\n",
        "            i=0\n",
        "            product=1\n",
        "            while i < len(nums):\n",
        "                if j != i:\n",
        "                    product=product*nums[i]\n",
        "                i+=1\n",
        "            answer[j]=product\n",
        "            j+=1\n",
        "\n",
        "        return answer\n"
      ]
    },
    {
      "cell_type": "code",
      "source": [
        "#This solution works but it has the problem of dividing by zero and this solution isn't allowed XD\n",
        "nums=[1,2,3,4]\n",
        "def productExceptSelf(nums: list[int]) -> list[int]:\n",
        "    answer=[1]*len(nums)\n",
        "    j=0\n",
        "    product=1\n",
        "    while j < len(nums):\n",
        "        product=product*nums[j]\n",
        "        j+=1\n",
        "    j=0\n",
        "    while j < len(nums):\n",
        "        answer[j]=product/nums[j]\n",
        "        j+=1\n",
        "    return answer\n",
        "productExceptSelf(nums)\n"
      ],
      "metadata": {
        "id": "iwPD4pNsOAvf"
      },
      "execution_count": null,
      "outputs": []
    },
    {
      "cell_type": "code",
      "source": [
        "#This solution works but, uses extra memory for the pre and post arrays\n",
        "class Solution:\n",
        "    def productExceptSelf(self, nums: List[int]) -> List[int]:\n",
        "        pre=[1]*len(nums)\n",
        "        post=[1]*len(nums)\n",
        "        anwser=[1]*len(nums)\n",
        "        product=1\n",
        "        for i in range(len(nums)):\n",
        "            product*=nums[i]\n",
        "            pre[i]=product\n",
        "\n",
        "        #range(start,finish\"not included\",step value)\n",
        "        product=1\n",
        "        for i in range(len(nums)-1,-1,-1):\n",
        "            product*=nums[i]\n",
        "            post[i]=product\n",
        "        #range(finish\"not included\")\n",
        "        for j in range(len(nums)):\n",
        "            if j == 0 :\n",
        "                print(\"here pre\")\n",
        "                anwser[j]=1*post[j+1]\n",
        "            elif j == len(nums)-1 :\n",
        "                print(\"here post\")\n",
        "                anwser[j]=pre[j-1]*1\n",
        "\n",
        "            else: anwser[j]=pre[j-1]*post[j+1]\n",
        "        return anwser"
      ],
      "metadata": {
        "id": "Ukkn-o4ROh5p"
      },
      "execution_count": null,
      "outputs": []
    }
  ]
}