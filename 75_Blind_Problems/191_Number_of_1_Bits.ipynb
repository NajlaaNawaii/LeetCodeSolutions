{
  "nbformat": 4,
  "nbformat_minor": 0,
  "metadata": {
    "colab": {
      "provenance": [],
      "authorship_tag": "ABX9TyNQu8utQLXr0liQKquUrLg8",
      "include_colab_link": true
    },
    "kernelspec": {
      "name": "python3",
      "display_name": "Python 3"
    },
    "language_info": {
      "name": "python"
    }
  },
  "cells": [
    {
      "cell_type": "markdown",
      "metadata": {
        "id": "view-in-github",
        "colab_type": "text"
      },
      "source": [
        "<a href=\"https://colab.research.google.com/github/NajlaaNawaii/ProgrammingSkills/blob/main/75_Blind_Problems/191_Number_of_1_Bits.ipynb\" target=\"_parent\"><img src=\"https://colab.research.google.com/assets/colab-badge.svg\" alt=\"Open In Colab\"/></a>"
      ]
    },
    {
      "cell_type": "code",
      "execution_count": null,
      "metadata": {
        "id": "bm8RhVMlxQJv"
      },
      "outputs": [],
      "source": [
        "''' - Traversing through the entire input, calculating mod of number by 2,\n",
        "and then shifting the number by one position to the right '''\n",
        "class Solution:\n",
        "    def hammingWeight(self, n: int) -> int:\n",
        "        result=0\n",
        "        while n:\n",
        "            if n%2 == 1:\n",
        "                result +=1\n",
        "            n = n>>1\n",
        "        return result\n",
        "\n"
      ]
    }
  ]
}