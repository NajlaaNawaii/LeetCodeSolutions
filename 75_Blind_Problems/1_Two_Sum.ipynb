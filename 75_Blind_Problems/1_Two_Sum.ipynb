{
  "nbformat": 4,
  "nbformat_minor": 0,
  "metadata": {
    "colab": {
      "provenance": [],
      "authorship_tag": "ABX9TyPGP/qBBBIh5MqH5aA2reCW",
      "include_colab_link": true
    },
    "kernelspec": {
      "name": "python3",
      "display_name": "Python 3"
    },
    "language_info": {
      "name": "python"
    }
  },
  "cells": [
    {
      "cell_type": "markdown",
      "metadata": {
        "id": "view-in-github",
        "colab_type": "text"
      },
      "source": [
        "<a href=\"https://colab.research.google.com/github/NajlaaNawaii/ProgrammingSkills/blob/main/75_Blind_Problems/1_Two_Sum.ipynb\" target=\"_parent\"><img src=\"https://colab.research.google.com/assets/colab-badge.svg\" alt=\"Open In Colab\"/></a>"
      ]
    },
    {
      "cell_type": "markdown",
      "source": [
        "The main thing to give attention to is that the array may not be sorted and there maybe duplicates in the array.\n",
        "\n",
        "Remember that the return type is a list of the indexes in the original array.\n",
        "\n",
        "Solved O(n)."
      ],
      "metadata": {
        "id": "zR7P-P7BU64P"
      }
    },
    {
      "cell_type": "code",
      "execution_count": null,
      "metadata": {
        "id": "n7vqMLTsM0Uw"
      },
      "outputs": [],
      "source": [
        "class Solution(object):\n",
        "    def twoSum(self, nums, target):\n",
        "        \"\"\"\n",
        "        :type nums: List[int]\n",
        "        :type target: int\n",
        "        :rtype: List[int]\n",
        "        \"\"\"\n",
        "        i,j=0,(len(nums)-1)\n",
        "        #these two lines are needed because if the first and last values equals the target and the two are equal \"9,9\", their returned indexes will be wrong because in the solution we just return the first occurence +1\n",
        "        if target == nums[i] + nums[j]:\n",
        "            return [i,j]\n",
        "        sorted_nums=sorted(nums) #the list should be sorted in order to be solved using two pointers\n",
        "\n",
        "        while i < j:\n",
        "\n",
        "            if target == sorted_nums[i] + sorted_nums[j]:\n",
        "                if sorted_nums[i] == sorted_nums[j]:\n",
        "                     return([nums.index(sorted_nums[i]),nums.index(sorted_nums[j])+1])  #index function return first occurence\n",
        "                else:\n",
        "                    return([nums.index(sorted_nums[i]),nums.index(sorted_nums[j])])\n",
        "\n",
        "            elif target > sorted_nums[i]+sorted_nums[j]:\n",
        "                i+=1\n",
        "            elif target < sorted_nums[i]+sorted_nums[j]:\n",
        "                j-=1\n",
        "\n"
      ]
    },
    {
      "cell_type": "markdown",
      "source": [],
      "metadata": {
        "id": "yh2i7rgTZx6w"
      }
    }
  ]
}