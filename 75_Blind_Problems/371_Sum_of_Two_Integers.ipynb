{
  "nbformat": 4,
  "nbformat_minor": 0,
  "metadata": {
    "colab": {
      "provenance": [],
      "authorship_tag": "ABX9TyNYqefozSkCpMnRo5+Y/a3Y",
      "include_colab_link": true
    },
    "kernelspec": {
      "name": "python3",
      "display_name": "Python 3"
    },
    "language_info": {
      "name": "python"
    }
  },
  "cells": [
    {
      "cell_type": "markdown",
      "metadata": {
        "id": "view-in-github",
        "colab_type": "text"
      },
      "source": [
        "<a href=\"https://colab.research.google.com/github/NajlaaNawaii/ProgrammingSkills/blob/main/75_Blind_Problems/371_Sum_of_Two_Integers.ipynb\" target=\"_parent\"><img src=\"https://colab.research.google.com/assets/colab-badge.svg\" alt=\"Open In Colab\"/></a>"
      ]
    },
    {
      "cell_type": "code",
      "execution_count": null,
      "metadata": {
        "id": "UVd3rsJZ1vS7"
      },
      "outputs": [],
      "source": [
        "class Solution:\n",
        "    def getSum(self, a: int, b: int) -> int:\n",
        "        # 32 bits integer max\n",
        "        MAX = 0x7FFFFFFF\n",
        "        # 32 bits interger min\n",
        "        # In Python, the negative numbers are represented as two's complement\n",
        "        MIN = 0x80000000\n",
        "        # mask to ensure 32 bits result, prevent overflow\n",
        "        mask = 0xFFFFFFFF\n",
        "\n",
        "        #continues untill there's no carry left, the addition process bit by bit\n",
        "        while b != 0:\n",
        "            # get different bits , gets double 1s, << moves carry\n",
        "            a, b = (a ^ b) & mask, ((a & b) << 1) & mask\n",
        "\n",
        "        # if a is negative, it returns the two's complement of the sum\n",
        "        return a if a <= MAX else ~(a ^ mask)\n"
      ]
    }
  ]
}