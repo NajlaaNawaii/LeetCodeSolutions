{
  "nbformat": 4,
  "nbformat_minor": 0,
  "metadata": {
    "colab": {
      "provenance": [],
      "authorship_tag": "ABX9TyOa42O4P0csY0naM2KldUhN",
      "include_colab_link": true
    },
    "kernelspec": {
      "name": "python3",
      "display_name": "Python 3"
    },
    "language_info": {
      "name": "python"
    }
  },
  "cells": [
    {
      "cell_type": "markdown",
      "metadata": {
        "id": "view-in-github",
        "colab_type": "text"
      },
      "source": [
        "<a href=\"https://colab.research.google.com/github/NajlaaNawaii/ProgrammingSkills/blob/main/75_Blind_Problems/15_3Sum.ipynb\" target=\"_parent\"><img src=\"https://colab.research.google.com/assets/colab-badge.svg\" alt=\"Open In Colab\"/></a>"
      ]
    },
    {
      "cell_type": "code",
      "execution_count": null,
      "metadata": {
        "id": "b_RQh4FzvLuW"
      },
      "outputs": [],
      "source": [
        "''' This is a brute force solution, where there's a loop to search for each one\n",
        "of the triplet elements, to ensure that the triplets are unique we store them in\n",
        "a set , and to ensure that the elements of each triplet are stored as\n",
        "an immutable entity, we store them in a tuple'''\n",
        "class Solution:\n",
        "    def threeSum(self, nums: List[int]) -> List[List[int]]:\n",
        "        result=set()\n",
        "        n=len(nums)\n",
        "        for i in range(n-2):\n",
        "            for j in range(i+1,n-1):\n",
        "                for k in range(j+1,n):\n",
        "                    if nums[i]+nums[j]+nums[k] == 0:\n",
        "                        triplet=tuple(sorted([nums[i],nums[j],nums[k]])) #The output of sorted() is always a list\n",
        "                        result.add(triplet)\n",
        "        return list(result)\n"
      ]
    },
    {
      "cell_type": "code",
      "source": [
        "''' The same solution as the brute force but the 3rd loop is elemenated by using\n",
        "Potential_Second_Elements which holds elements between the first and 3rd\n",
        "elements, it changes and updates to be empty everytime the first element changes'''\n",
        "class Solution:\n",
        "    def threeSum(self, nums: List[int]) -> List[List[int]]:\n",
        "      result=set()\n",
        "      n=len(nums)\n",
        "      for i in range(n-2):\n",
        "        Potential_Second_Elements = {} #updates each new potential first element\n",
        "        for j in range(i+1,n):\n",
        "          target=-(nums[i]+nums[j])\n",
        "          if target in Potential_Second_Elements:\n",
        "            triplets=tuple(sorted([nums[i],nums[j],target]))#i/o sorted is a list\n",
        "            result.add(triplets)\n",
        "          Potential_Second_Elements[nums[j]]=j\n",
        "      return list(result) #the required output is list of list\n"
      ],
      "metadata": {
        "id": "Pm2pcmikoR3G"
      },
      "execution_count": null,
      "outputs": []
    },
    {
      "cell_type": "code",
      "source": [
        "''' The same solution as the brute force but the 3rd loop is elemenated by using\n",
        "Potential_Second_Elements which holds elements between the first and 3rd\n",
        "elements, it changes and updates to be empty everytime the first element changes'''\n",
        "class Solution:\n",
        "    def threeSum(self, nums: List[int]) -> List[List[int]]:\n",
        "      result=set()\n",
        "      n=len(nums)\n",
        "      for i in range(n-2):\n",
        "        sorted_rest_numbers=sorted([nums[i+1,n-1]])\n",
        "        left=sorted_rest_numbers[0]\n",
        "        right=sorted_rest_numbers[n-1]\n",
        "        while left <= right:\n",
        "          if nums[i]+sorted_rest_numbers[left]+sorted_rest_numbers[right] == 0:\n",
        "            triplets=[nums[i],sorted_rest_numbers[left],sorted_rest_numbers[right]] #already sorted\n",
        "            result.add(triplets)\n",
        "          elif  nums[i]+sorted_rest_numbers[left]+sorted_rest_numbers[right] < 0:\n",
        "            left+=1\n",
        "          else:\n",
        "            right-=1\n",
        "      return list(result) #the required output is list of list\n"
      ],
      "metadata": {
        "id": "GnXesI08HXCW"
      },
      "execution_count": null,
      "outputs": []
    },
    {
      "cell_type": "code",
      "source": [
        "''' The same solution as the brute force but the list is intially sorted and\n",
        "then additionaly the 3rd loop is elemenated by using 2 pointers approach to\n",
        "look for the second and thirg potential elements'''\n",
        "class Solution:\n",
        "    def threeSum(self, nums: List[int]) -> List[List[int]]:\n",
        "      nums.sort()  # Sort the input array.\n",
        "      triplets = set()\n",
        "      n = len(nums)\n",
        "\n",
        "      for i in range(n - 2):\n",
        "          left = i + 1\n",
        "          right = n - 1\n",
        "          while left < right:\n",
        "              current_sum = nums[i] + nums[left] + nums[right]\n",
        "              if current_sum == 0:\n",
        "                  triplets.add((nums[i], nums[left], nums[right]))\n",
        "                  left += 1\n",
        "                  right -= 1\n",
        "              elif current_sum < 0:\n",
        "                  left += 1\n",
        "              else:\n",
        "                  right -= 1\n",
        "\n",
        "      return list(triplets)\n"
      ],
      "metadata": {
        "id": "eN2bTVtcMsDN"
      },
      "execution_count": null,
      "outputs": []
    }
  ]
}