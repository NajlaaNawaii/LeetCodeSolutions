{
  "nbformat": 4,
  "nbformat_minor": 0,
  "metadata": {
    "colab": {
      "provenance": [],
      "authorship_tag": "ABX9TyPlmEllEE2BKHb8ElDKJuNz",
      "include_colab_link": true
    },
    "kernelspec": {
      "name": "python3",
      "display_name": "Python 3"
    },
    "language_info": {
      "name": "python"
    }
  },
  "cells": [
    {
      "cell_type": "markdown",
      "metadata": {
        "id": "view-in-github",
        "colab_type": "text"
      },
      "source": [
        "<a href=\"https://colab.research.google.com/github/NajlaaNawaii/ProgrammingSkills/blob/main/75_Blind_Problems/15_3Sum.ipynb\" target=\"_parent\"><img src=\"https://colab.research.google.com/assets/colab-badge.svg\" alt=\"Open In Colab\"/></a>"
      ]
    },
    {
      "cell_type": "code",
      "execution_count": null,
      "metadata": {
        "id": "b_RQh4FzvLuW"
      },
      "outputs": [],
      "source": [
        "''' This is a brute force solution, where there's a loop to search for each one\n",
        "of the triplet elements, to ensure that the triplets are unique we store them in\n",
        "a set , and to ensure that the elements of each triplet are stored as\n",
        "an immutable entity, we store them in a tuple'''\n",
        "class Solution:\n",
        "    def threeSum(self, nums: List[int]) -> List[List[int]]:\n",
        "        result=set()\n",
        "        n=len(nums)\n",
        "        for i in range(n-2):\n",
        "            for j in range(i+1,n-1):\n",
        "                for k in range(j+1,n):\n",
        "                    if nums[i]+nums[j]+nums[k] == 0:\n",
        "                        triplet=tuple(sorted([nums[i],nums[j],nums[k]])) #The output of sorted() is always a list\n",
        "                        result.add(triplet)\n",
        "        return list(result)\n",
        ""
      ]
    }
  ]
}