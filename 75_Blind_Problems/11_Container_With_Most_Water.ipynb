{
  "nbformat": 4,
  "nbformat_minor": 0,
  "metadata": {
    "colab": {
      "provenance": [],
      "authorship_tag": "ABX9TyPeClMPY5Ii7EaIm3rHcao6",
      "include_colab_link": true
    },
    "kernelspec": {
      "name": "python3",
      "display_name": "Python 3"
    },
    "language_info": {
      "name": "python"
    }
  },
  "cells": [
    {
      "cell_type": "markdown",
      "metadata": {
        "id": "view-in-github",
        "colab_type": "text"
      },
      "source": [
        "<a href=\"https://colab.research.google.com/github/NajlaaNawaii/ProgrammingSkills/blob/main/75_Blind_Problems/11_Container_With_Most_Water.ipynb\" target=\"_parent\"><img src=\"https://colab.research.google.com/assets/colab-badge.svg\" alt=\"Open In Colab\"/></a>"
      ]
    },
    {
      "cell_type": "code",
      "execution_count": null,
      "metadata": {
        "id": "Ef6Ymrd98aI4"
      },
      "outputs": [],
      "source": [
        "'''The 'l' and 'r' pointers start from the two ends of the list and move towards\n",
        " each other, calculating the area formed by the lines at the current positions.\n",
        "The pointer with the smaller height is moved inward, as this maximizes the\n",
        "potential area. The process continues until the pointers meet. The max_area\n",
        "variable keeps track of the maximum area encountered during the iteration.'''\n",
        "class Solution:\n",
        "    def maxArea(self, height: List[int]) -> int:\n",
        "        max_area=0\n",
        "        l=0\n",
        "        r=(len(height)-1)\n",
        "        while l <= r:\n",
        "            area=(r-l)*min(height[l],height[r])\n",
        "            max_area= max(max_area,area)\n",
        "            if height[l] > height[r]:\n",
        "                r-=1\n",
        "            else:\n",
        "                l+=1\n",
        "        return max_area\n"
      ]
    }
  ]
}