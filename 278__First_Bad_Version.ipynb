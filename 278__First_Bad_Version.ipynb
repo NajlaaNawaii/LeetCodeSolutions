{
  "nbformat": 4,
  "nbformat_minor": 0,
  "metadata": {
    "colab": {
      "name": "278_ First Bad Version.ipynb",
      "provenance": []
    },
    "kernelspec": {
      "name": "python3",
      "display_name": "Python 3"
    },
    "language_info": {
      "name": "python"
    }
  },
  "cells": [
    {
      "cell_type": "markdown",
      "source": [
        "278_ First Bad Version\n",
        "**bold text**\n",
        "**Easy**\n",
        "\n",
        "You are a product manager and currently leading a team to develop a new product. Unfortunately, the latest version of your product fails the quality check. Since each version is developed based on the previous version, all the versions after a bad version are also bad.\n",
        "\n",
        "Suppose you have n versions [1, 2, ..., n] and you want to find out the first bad one, which causes all the following ones to be bad.\n",
        "\n",
        "You are given an API bool isBadVersion(version) which returns whether version is bad. Implement a function to find the first bad version. You should minimize the number of calls to the API."
      ],
      "metadata": {
        "id": "WG_VC1Z4zq-L"
      }
    },
    {
      "cell_type": "code",
      "source": [
        "## The isBadVersion API is already defined for you.\n",
        "## @param version, an integer\n",
        "## @return a bool\n",
        "## def isBadVersion(version):\n",
        "\n",
        "class Solution(object):\n",
        "    def firstBadVersion(self, n):\n",
        "        \"\"\"\n",
        "        :type n: int\n",
        "        :rtype: int\n",
        "        \"\"\"\n",
        "        low=1\n",
        "        high=n\n",
        "        while low <= high:\n",
        "            mid=(low+high)//2\n",
        "            if not isBadVersion(mid):\n",
        "                low=mid+1\n",
        "            elif isBadVersion(mid) and not isBadVersion(mid-1):\n",
        "                return mid\n",
        "            elif isBadVersion(mid) and isBadVersion(mid-1):\n",
        "                high=mid-1\n",
        "                \n",
        "                \n",
        "                \n",
        "        "
      ],
      "metadata": {
        "id": "Hs1YLX3duo8B"
      },
      "execution_count": null,
      "outputs": []
    },
    {
      "cell_type": "markdown",
      "source": [
        "We can consider the array to be  sorted because it changes its values once and stays that way so we use binary search, and in every position we check if it's the required output (bad version and the one before it is good) otherwise, we continue searching.\n",
        "And that's reduces the complexity to logn."
      ],
      "metadata": {
        "id": "GhX_KVMt0Cm_"
      }
    }
  ]
}