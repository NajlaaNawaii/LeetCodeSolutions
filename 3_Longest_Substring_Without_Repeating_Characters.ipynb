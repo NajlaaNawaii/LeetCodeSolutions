{
  "nbformat": 4,
  "nbformat_minor": 0,
  "metadata": {
    "colab": {
      "name": "3. Longest Substring Without Repeating Characters.ipynb",
      "provenance": [],
      "collapsed_sections": []
    },
    "kernelspec": {
      "name": "python3",
      "display_name": "Python 3"
    },
    "language_info": {
      "name": "python"
    }
  },
  "cells": [
    {
      "cell_type": "markdown",
      "source": [
        "3. Longest Substring Without Repeating Characters\n",
        "\n",
        "Medium\n",
        "\n",
        "\n",
        "Given a string s, find the length of the longest substring without repeating characters."
      ],
      "metadata": {
        "id": "ghUCd9tB4q3V"
      }
    },
    {
      "cell_type": "code",
      "execution_count": null,
      "metadata": {
        "id": "M4edS52I4nyB"
      },
      "outputs": [],
      "source": [
        "class Solution(object):\n",
        "    def lengthOfLongestSubstring(self, s):\n",
        "        \"\"\"\n",
        "        :type s: str\n",
        "        :rtype: int\n",
        "        \"\"\"\n",
        "        CharSet=set()\n",
        "        l=0\n",
        "        MaximumLength=0\n",
        "        for r in range(len(s)):\n",
        "            while s[r] in CharSet:\n",
        "                CharSet.remove(s[l])\n",
        "                l+=1\n",
        "            CharSet.add(s[r])\n",
        "            MaximumLength=max(MaximumLength,(r-l+1))\n",
        "        return MaximumLength\n",
        "\n",
        "        \n",
        "        "
      ]
    },
    {
      "cell_type": "markdown",
      "source": [
        "The main idea is we go through the string with a sliding window donoted by the left and right pointers, and we keep track of the window's length.\n",
        "\n",
        "the window gets expanded with adding new characters with the right pointer and gets shrinked with removing the left most character when we encounter repeating character. Also we check if we have a repeating character by saving the window characters in a set."
      ],
      "metadata": {
        "id": "pySt0IdF4pvP"
      }
    }
  ]
}